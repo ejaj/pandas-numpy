{
 "cells": [
  {
   "cell_type": "code",
   "execution_count": 2,
   "id": "59b3dbac",
   "metadata": {},
   "outputs": [
    {
     "name": "stdout",
     "output_type": "stream",
     "text": [
      "Series([], dtype: string)\n"
     ]
    }
   ],
   "source": [
    "import pandas as pd\n",
    "import numpy as np\n",
    "print(pd.Series([],dtype=pd.StringDtype()))"
   ]
  },
  {
   "cell_type": "code",
   "execution_count": 7,
   "id": "d3166462",
   "metadata": {},
   "outputs": [
    {
     "name": "stdout",
     "output_type": "stream",
     "text": [
      "0     Chocolate\n",
      "1       Vanilla\n",
      "2    Strawberry\n",
      "3    Rum Raisin\n",
      "dtype: object\n"
     ]
    }
   ],
   "source": [
    "ice_cream_flavors = [\n",
    "            \"Chocolate\",\n",
    "            \"Vanilla\",\n",
    "            \"Strawberry\",\n",
    "            \"Rum Raisin\",\n",
    "        ]\n",
    "print(pd.Series(data=ice_cream_flavors))"
   ]
  },
  {
   "cell_type": "code",
   "execution_count": 8,
   "id": "f2b00829",
   "metadata": {},
   "outputs": [
    {
     "name": "stdout",
     "output_type": "stream",
     "text": [
      "Monday        Chocolate\n",
      "Wednesday       Vanilla\n",
      "Friday       Strawberry\n",
      "Saturday     Rum Raisin\n",
      "dtype: object\n"
     ]
    }
   ],
   "source": [
    "ice_cream_flavors = [\n",
    "            \"Chocolate\",\n",
    "            \"Vanilla\",\n",
    "            \"Strawberry\",\n",
    "            \"Rum Raisin\",\n",
    "        ]\n",
    "days_of_week = (\"Monday\", \"Wednesday\", \"Friday\", \"Saturday\")\n",
    "#pd.Series(ice_cream_flavors, days_of_week)\n",
    "print(pd.Series(data=ice_cream_flavors, index = days_of_week))"
   ]
  },
  {
   "cell_type": "code",
   "execution_count": 9,
   "id": "b84bae74",
   "metadata": {},
   "outputs": [
    {
     "name": "stdout",
     "output_type": "stream",
     "text": [
      "0    94.0\n",
      "1    88.0\n",
      "2     NaN\n",
      "3    91.0\n",
      "dtype: float64\n"
     ]
    }
   ],
   "source": [
    "temperatures = [94, 88, np.nan, 91]\n",
    "print(pd.Series(data = temperatures))"
   ]
  },
  {
   "cell_type": "code",
   "execution_count": 10,
   "id": "29484d4e",
   "metadata": {},
   "outputs": [
    {
     "name": "stdout",
     "output_type": "stream",
     "text": [
      "Cereal              125\n",
      "Chocolate Bar       406\n",
      "Ice Cream Sundae    342\n",
      "dtype: int64\n"
     ]
    }
   ],
   "source": [
    "calorie_info = {\n",
    "             \"Cereal\": 125,\n",
    "             \"Chocolate Bar\": 406,\n",
    "             \"Ice Cream Sundae\": 342,\n",
    "         }\n",
    "print(pd.Series(data = calorie_info))"
   ]
  },
  {
   "cell_type": "code",
   "execution_count": 11,
   "id": "1004d41a",
   "metadata": {},
   "outputs": [
    {
     "name": "stdout",
     "output_type": "stream",
     "text": [
      "0      Red\n",
      "1    Green\n",
      "2     Blue\n",
      "dtype: object\n"
     ]
    }
   ],
   "source": [
    "print(pd.Series(data = (\"Red\", \"Green\", \"Blue\")))"
   ]
  },
  {
   "cell_type": "code",
   "execution_count": 12,
   "id": "e1a8ddfc",
   "metadata": {},
   "outputs": [
    {
     "name": "stdout",
     "output_type": "stream",
     "text": [
      "0     (120, 41, 26)\n",
      "1    (196, 165, 45)\n",
      "dtype: object\n"
     ]
    }
   ],
   "source": [
    "rgb_colors = [(120, 41, 26), (196, 165, 45)]\n",
    "print(pd.Series(data = rgb_colors))"
   ]
  },
  {
   "cell_type": "code",
   "execution_count": 15,
   "id": "0ab3bc2e",
   "metadata": {},
   "outputs": [
    {
     "name": "stdout",
     "output_type": "stream",
     "text": [
      "0    Ricky\n",
      "1    Bobby\n",
      "dtype: object\n"
     ]
    }
   ],
   "source": [
    "my_set = {\"Ricky\", \"Bobby\"}\n",
    "print(pd.Series(list(my_set)))"
   ]
  },
  {
   "cell_type": "code",
   "execution_count": 16,
   "id": "3b7b73c5",
   "metadata": {},
   "outputs": [
    {
     "name": "stdout",
     "output_type": "stream",
     "text": [
      "[99  4 69 46  7 63 63 46 66 27]\n"
     ]
    }
   ],
   "source": [
    "random_data = np.random.randint(1, 101, 10)\n",
    "print(random_data)"
   ]
  },
  {
   "cell_type": "code",
   "execution_count": 17,
   "id": "fec2a836",
   "metadata": {},
   "outputs": [
    {
     "name": "stdout",
     "output_type": "stream",
     "text": [
      "0    99\n",
      "1     4\n",
      "2    69\n",
      "3    46\n",
      "4     7\n",
      "5    63\n",
      "6    63\n",
      "7    46\n",
      "8    66\n",
      "9    27\n",
      "dtype: int64\n"
     ]
    }
   ],
   "source": [
    "print(pd.Series(random_data))"
   ]
  },
  {
   "cell_type": "code",
   "execution_count": 32,
   "id": "49edf048",
   "metadata": {},
   "outputs": [
    {
     "name": "stdout",
     "output_type": "stream",
     "text": [
      "[125 406 342]\n",
      "<class 'numpy.ndarray'>\n",
      "Index(['Cereal', 'Chocolate Bar', 'Ice Cream Sundae'], dtype='object')\n",
      "<class 'pandas.core.indexes.base.Index'>\n",
      "int64\n",
      "3\n",
      "(3,)\n",
      "True\n",
      "False\n",
      "True\n",
      "False\n"
     ]
    },
    {
     "name": "stderr",
     "output_type": "stream",
     "text": [
      "/tmp/ipykernel_8527/300933717.py:17: FutureWarning: is_monotonic is deprecated and will be removed in a future version. Use is_monotonic_increasing instead.\n",
      "  print(pd.Series(data = [1, 3, 6]).is_monotonic)\n",
      "/tmp/ipykernel_8527/300933717.py:18: FutureWarning: is_monotonic is deprecated and will be removed in a future version. Use is_monotonic_increasing instead.\n",
      "  print(pd.Series(data = [1, 6, 3]).is_monotonic)\n"
     ]
    }
   ],
   "source": [
    "calorie_info = {\n",
    "             \"Cereal\": 125,\n",
    "             \"Chocolate Bar\": 406,\n",
    "             \"Ice Cream Sundae\": 342,\n",
    "         }\n",
    " \n",
    "diet = pd.Series(calorie_info)\n",
    "print(diet.values)\n",
    "print(type(diet.values))\n",
    "print(diet.index)\n",
    "print(type(diet.index))\n",
    "print(diet.dtype)\n",
    "print(diet.size)\n",
    "print(diet.shape)\n",
    "print(diet.is_unique)\n",
    "print(pd.Series(data = [3, 3]).is_unique)\n",
    "print(pd.Series(data = [1, 3, 6]).is_monotonic)\n",
    "print(pd.Series(data = [1, 6, 3]).is_monotonic)"
   ]
  },
  {
   "cell_type": "code",
   "execution_count": 4,
   "id": "30c6a6b1",
   "metadata": {},
   "outputs": [
    {
     "name": "stdout",
     "output_type": "stream",
     "text": [
      "0    1.0\n",
      "1    2.0\n",
      "2    3.0\n",
      "3    NaN\n",
      "4    4.0\n",
      "5    5.0\n",
      "dtype: float64\n"
     ]
    }
   ],
   "source": [
    "numbers = pd.Series([1, 2, 3, np.nan, 4, 5])\n",
    "print(numbers)"
   ]
  },
  {
   "cell_type": "code",
   "execution_count": 5,
   "id": "ad8d748f",
   "metadata": {},
   "outputs": [
    {
     "name": "stdout",
     "output_type": "stream",
     "text": [
      "5\n"
     ]
    }
   ],
   "source": [
    "print(numbers.count())"
   ]
  },
  {
   "cell_type": "code",
   "execution_count": 6,
   "id": "67b1f922",
   "metadata": {},
   "outputs": [
    {
     "name": "stdout",
     "output_type": "stream",
     "text": [
      "15.0\n"
     ]
    }
   ],
   "source": [
    "print(numbers.sum())"
   ]
  },
  {
   "cell_type": "code",
   "execution_count": 7,
   "id": "d006dff3",
   "metadata": {},
   "outputs": [
    {
     "name": "stdout",
     "output_type": "stream",
     "text": [
      "nan\n"
     ]
    }
   ],
   "source": [
    "print(numbers.sum(skipna = False))"
   ]
  },
  {
   "cell_type": "code",
   "execution_count": 8,
   "id": "cf6ce4d8",
   "metadata": {},
   "outputs": [
    {
     "name": "stdout",
     "output_type": "stream",
     "text": [
      "15.0\n"
     ]
    }
   ],
   "source": [
    "print(numbers.sum(min_count = 3))"
   ]
  },
  {
   "cell_type": "code",
   "execution_count": 9,
   "id": "508b3744",
   "metadata": {},
   "outputs": [
    {
     "name": "stdout",
     "output_type": "stream",
     "text": [
      "120.0\n"
     ]
    }
   ],
   "source": [
    "print(numbers.product())"
   ]
  },
  {
   "cell_type": "code",
   "execution_count": 10,
   "id": "68a9c63f",
   "metadata": {},
   "outputs": [
    {
     "name": "stdout",
     "output_type": "stream",
     "text": [
      "0     1.0\n",
      "1     3.0\n",
      "2     6.0\n",
      "3     NaN\n",
      "4    10.0\n",
      "5    15.0\n",
      "dtype: float64\n"
     ]
    }
   ],
   "source": [
    "print(numbers.cumsum())"
   ]
  },
  {
   "cell_type": "code",
   "execution_count": 11,
   "id": "1a89c546",
   "metadata": {},
   "outputs": [
    {
     "name": "stdout",
     "output_type": "stream",
     "text": [
      "0         NaN\n",
      "1    1.000000\n",
      "2    0.500000\n",
      "3    0.000000\n",
      "4    0.333333\n",
      "5    0.250000\n",
      "dtype: float64\n"
     ]
    }
   ],
   "source": [
    "print(numbers.pct_change())"
   ]
  },
  {
   "cell_type": "code",
   "execution_count": 12,
   "id": "2867d13c",
   "metadata": {},
   "outputs": [
    {
     "name": "stdout",
     "output_type": "stream",
     "text": [
      "3.0\n",
      "3.0\n",
      "1.5811388300841898\n"
     ]
    }
   ],
   "source": [
    "print(numbers.mean())\n",
    "print(numbers.median())\n",
    "print(numbers.std())"
   ]
  },
  {
   "cell_type": "code",
   "execution_count": 13,
   "id": "7f2d9f5c",
   "metadata": {},
   "outputs": [
    {
     "name": "stdout",
     "output_type": "stream",
     "text": [
      "5.0\n",
      "1.0\n"
     ]
    }
   ],
   "source": [
    "print(numbers.max())\n",
    "print(numbers.min())"
   ]
  },
  {
   "cell_type": "code",
   "execution_count": 14,
   "id": "b2f05587",
   "metadata": {},
   "outputs": [
    {
     "name": "stdout",
     "output_type": "stream",
     "text": [
      "0       koala\n",
      "1    aardvark\n",
      "2       zebra\n",
      "dtype: object\n"
     ]
    }
   ],
   "source": [
    "animals = pd.Series([\"koala\", \"aardvark\", \"zebra\"])\n",
    "print(animals)"
   ]
  },
  {
   "cell_type": "code",
   "execution_count": 15,
   "id": "18f62eb7",
   "metadata": {},
   "outputs": [
    {
     "name": "stdout",
     "output_type": "stream",
     "text": [
      "zebra\n",
      "aardvark\n"
     ]
    }
   ],
   "source": [
    "print(animals.max())\n",
    "print(animals.min())"
   ]
  },
  {
   "cell_type": "code",
   "execution_count": 16,
   "id": "10e636e1",
   "metadata": {},
   "outputs": [
    {
     "name": "stdout",
     "output_type": "stream",
     "text": [
      "count    5.000000\n",
      "mean     3.000000\n",
      "std      1.581139\n",
      "min      1.000000\n",
      "25%      2.000000\n",
      "50%      3.000000\n",
      "75%      4.000000\n",
      "max      5.000000\n",
      "dtype: float64\n"
     ]
    }
   ],
   "source": [
    "print(numbers.describe())"
   ]
  },
  {
   "cell_type": "code",
   "execution_count": 17,
   "id": "0904d23a",
   "metadata": {},
   "outputs": [
    {
     "name": "stdout",
     "output_type": "stream",
     "text": [
      "3    NaN\n",
      "5    5.0\n",
      "2    3.0\n",
      "dtype: float64\n"
     ]
    }
   ],
   "source": [
    "print(numbers.sample(3))"
   ]
  },
  {
   "cell_type": "code",
   "execution_count": 18,
   "id": "19405fe8",
   "metadata": {},
   "outputs": [
    {
     "name": "stdout",
     "output_type": "stream",
     "text": [
      "['Hemingway' 'Orwell' 'Dostoevsky' 'Fitzgerald']\n"
     ]
    }
   ],
   "source": [
    "authors = pd.Series(\n",
    "             [\"Hemingway\", \"Orwell\", \"Dostoevsky\", \"Fitzgerald\", \"Orwell\"]\n",
    "         )\n",
    "print(authors.unique())"
   ]
  },
  {
   "cell_type": "code",
   "execution_count": 19,
   "id": "fee1b819",
   "metadata": {},
   "outputs": [
    {
     "name": "stdout",
     "output_type": "stream",
     "text": [
      "4\n"
     ]
    }
   ],
   "source": [
    "print(authors.nunique())"
   ]
  },
  {
   "cell_type": "code",
   "execution_count": 20,
   "id": "a2b551ad",
   "metadata": {},
   "outputs": [
    {
     "name": "stdout",
     "output_type": "stream",
     "text": [
      "Batman             100\n",
      "Superman           120\n",
      "Spider-Man          90\n",
      "Iron Man            95\n",
      "Captain America    110\n",
      "Wonder Woman       120\n",
      "dtype: int64\n"
     ]
    }
   ],
   "source": [
    "superheroes = [\n",
    "             \"Batman\",\n",
    "             \"Superman\",\n",
    "             \"Spider-Man\",\n",
    "             \"Iron Man\",\n",
    "             \"Captain America\",\n",
    "             \"Wonder Woman\"\n",
    "         ]\n",
    "strength_levels = (100, 120, 90, 95, 110, 120)\n",
    "heroes = pd.Series(\n",
    "             data = strength_levels, index = superheroes\n",
    "         )\n",
    "print(heroes)"
   ]
  },
  {
   "cell_type": "code",
   "execution_count": null,
   "id": "0b3ea3cd",
   "metadata": {},
   "outputs": [],
   "source": []
  }
 ],
 "metadata": {
  "kernelspec": {
   "display_name": "Python 3 (ipykernel)",
   "language": "python",
   "name": "python3"
  },
  "language_info": {
   "codemirror_mode": {
    "name": "ipython",
    "version": 3
   },
   "file_extension": ".py",
   "mimetype": "text/x-python",
   "name": "python",
   "nbconvert_exporter": "python",
   "pygments_lexer": "ipython3",
   "version": "3.10.6"
  }
 },
 "nbformat": 4,
 "nbformat_minor": 5
}
