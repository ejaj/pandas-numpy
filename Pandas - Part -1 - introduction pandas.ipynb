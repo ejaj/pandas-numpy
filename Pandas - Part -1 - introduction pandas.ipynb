{
 "cells": [
  {
   "cell_type": "code",
   "execution_count": 1,
   "id": "1bf19a4f",
   "metadata": {},
   "outputs": [],
   "source": [
    "import pandas as pd"
   ]
  },
  {
   "cell_type": "code",
   "execution_count": 35,
   "id": "d0ad1c17",
   "metadata": {},
   "outputs": [
    {
     "name": "stdout",
     "output_type": "stream",
     "text": [
      "       Audience score %  Profitability  Rotten Tomatoes %         Year\n",
      "count         77.000000      77.000000          77.000000    77.000000\n",
      "mean          63.727273       4.599483          46.701299  2009.077922\n",
      "std           13.657113       8.031990          26.095001     1.354974\n",
      "min           35.000000       0.000000           3.000000  2007.000000\n",
      "25%           52.000000       1.751351          26.000000  2008.000000\n",
      "50%           64.000000       2.642353          45.000000  2009.000000\n",
      "75%           76.000000       5.103117          64.000000  2010.000000\n",
      "max           89.000000      66.934000          96.000000  2011.000000\n"
     ]
    }
   ],
   "source": [
    "df = pd.read_csv(\"movies.csv\", index_col=\"Title\")\n",
    "#print(df.info)\n",
    "print(df.describe())"
   ]
  },
  {
   "cell_type": "code",
   "execution_count": 36,
   "id": "0c3e0db7",
   "metadata": {},
   "outputs": [
    {
     "name": "stdout",
     "output_type": "stream",
     "text": [
      "                                      Genre            Lead Studio  \\\n",
      "Title                                                                \n",
      "Zack and Miri Make a Porno          Romance  The Weinstein Company   \n",
      "Youth in Revolt                      Comedy  The Weinstein Company   \n",
      "You Will Meet a Tall Dark Stranger   Comedy            Independent   \n",
      "When in Rome                         Comedy                 Disney   \n",
      "\n",
      "                                    Audience score %  Profitability  \\\n",
      "Title                                                                 \n",
      "Zack and Miri Make a Porno                        70       1.747542   \n",
      "Youth in Revolt                                   52       1.090000   \n",
      "You Will Meet a Tall Dark Stranger                35       1.211818   \n",
      "When in Rome                                      44       0.000000   \n",
      "\n",
      "                                    Rotten Tomatoes % Worldwide Gross  Year  \n",
      "Title                                                                        \n",
      "Zack and Miri Make a Porno                         64         $41.94   2008  \n",
      "Youth in Revolt                                    68         $19.62   2010  \n",
      "You Will Meet a Tall Dark Stranger                 43         $26.66   2010  \n",
      "When in Rome                                       15         $43.04   2010  \n"
     ]
    }
   ],
   "source": [
    "print(df.head(4))"
   ]
  },
  {
   "cell_type": "code",
   "execution_count": 13,
   "id": "de70e542",
   "metadata": {},
   "outputs": [
    {
     "name": "stdout",
     "output_type": "stream",
     "text": [
      "                   Title   Genre Lead Studio  Audience score %  Profitability  \\\n",
      "75            27 Dresses  Comedy         Fox                71       5.343622   \n",
      "76  (500) Days of Summer  comedy         Fox                81       8.096000   \n",
      "\n",
      "    Rotten Tomatoes % Worldwide Gross  Year  \n",
      "75                 40        $160.31   2008  \n",
      "76                 87         $60.72   2009  \n"
     ]
    }
   ],
   "source": [
    "print(df.tail(2))"
   ]
  },
  {
   "cell_type": "code",
   "execution_count": 14,
   "id": "2ff6b158",
   "metadata": {},
   "outputs": [
    {
     "name": "stdout",
     "output_type": "stream",
     "text": [
      "77\n"
     ]
    }
   ],
   "source": [
    "print(len(df))"
   ]
  },
  {
   "cell_type": "code",
   "execution_count": 15,
   "id": "3ae769e8",
   "metadata": {},
   "outputs": [
    {
     "name": "stdout",
     "output_type": "stream",
     "text": [
      "(77, 8)\n"
     ]
    }
   ],
   "source": [
    "print(df.shape)"
   ]
  },
  {
   "cell_type": "code",
   "execution_count": 17,
   "id": "15b83f98",
   "metadata": {},
   "outputs": [
    {
     "name": "stdout",
     "output_type": "stream",
     "text": [
      "616\n"
     ]
    }
   ],
   "source": [
    "print(df.size)"
   ]
  },
  {
   "cell_type": "code",
   "execution_count": 18,
   "id": "9f329c14",
   "metadata": {},
   "outputs": [
    {
     "name": "stdout",
     "output_type": "stream",
     "text": [
      "Title                 object\n",
      "Genre                 object\n",
      "Lead Studio           object\n",
      "Audience score %       int64\n",
      "Profitability        float64\n",
      "Rotten Tomatoes %      int64\n",
      "Worldwide Gross       object\n",
      "Year                   int64\n",
      "dtype: object\n"
     ]
    }
   ],
   "source": [
    "print(df.dtypes)"
   ]
  },
  {
   "cell_type": "code",
   "execution_count": 25,
   "id": "4a57eea9",
   "metadata": {},
   "outputs": [
    {
     "name": "stdout",
     "output_type": "stream",
     "text": [
      "Title                      Youth in Revolt\n",
      "Genre                               Comedy\n",
      "Lead Studio          The Weinstein Company\n",
      "Audience score %                        52\n",
      "Profitability                         1.09\n",
      "Rotten Tomatoes %                       68\n",
      "Worldwide Gross                    $19.62 \n",
      "Year                                  2010\n",
      "Name: 1, dtype: object\n"
     ]
    }
   ],
   "source": [
    "print(df.iloc[1])"
   ]
  },
  {
   "cell_type": "code",
   "execution_count": 29,
   "id": "0e36c520",
   "metadata": {},
   "outputs": [
    {
     "data": {
      "text/plain": [
       "['Title',\n",
       " 'Genre',\n",
       " 'Lead Studio',\n",
       " 'Audience score %',\n",
       " 'Profitability',\n",
       " 'Rotten Tomatoes %',\n",
       " 'Worldwide Gross',\n",
       " 'Year']"
      ]
     },
     "execution_count": 29,
     "metadata": {},
     "output_type": "execute_result"
    }
   ],
   "source": [
    "df.columns.tolist()"
   ]
  },
  {
   "cell_type": "code",
   "execution_count": 32,
   "id": "5c08af54",
   "metadata": {},
   "outputs": [
    {
     "name": "stdout",
     "output_type": "stream",
     "text": [
      "0            Zack and Miri Make a Porno\n",
      "1                       Youth in Revolt\n",
      "2    You Will Meet a Tall Dark Stranger\n",
      "3                          When in Rome\n",
      "4                 What Happens in Vegas\n",
      "Name: Title, dtype: object\n"
     ]
    }
   ],
   "source": [
    "print(df['Title'].head(5))"
   ]
  },
  {
   "cell_type": "code",
   "execution_count": 38,
   "id": "12a5e663",
   "metadata": {},
   "outputs": [
    {
     "name": "stdout",
     "output_type": "stream",
     "text": [
      "Genre                    Romance\n",
      "Lead Studio          Independent\n",
      "Audience score %              67\n",
      "Profitability          11.089742\n",
      "Rotten Tomatoes %             89\n",
      "Worldwide Gross          $22.18 \n",
      "Year                        2007\n",
      "Name: Waitress, dtype: object\n"
     ]
    }
   ],
   "source": [
    "df1 = pd.read_csv(\"movies.csv\", index_col=\"Title\")\n",
    "print(df1.loc[\"Waitress\"])"
   ]
  },
  {
   "cell_type": "code",
   "execution_count": 41,
   "id": "77a70eb0",
   "metadata": {},
   "outputs": [
    {
     "name": "stdout",
     "output_type": "stream",
     "text": [
      "                           Genre       Lead Studio  Audience score %  \\\n",
      "Title                                                                  \n",
      "New Year's Eve           Romance      Warner Bros.                48   \n",
      "Twilight: Breaking Dawn  Romance       Independent                68   \n",
      "Monte Carlo              Romance  20th Century Fox                50   \n",
      "Midnight in Paris        Romence              Sony                84   \n",
      "\n",
      "                         Profitability  Rotten Tomatoes % Worldwide Gross  \\\n",
      "Title                                                                       \n",
      "New Year's Eve                2.536429                  8        $142.04    \n",
      "Twilight: Breaking Dawn       6.383364                 26        $702.17    \n",
      "Monte Carlo                   1.983200                 38         $39.66    \n",
      "Midnight in Paris             8.744706                 93        $148.66    \n",
      "\n",
      "                         Year  \n",
      "Title                          \n",
      "New Year's Eve           2011  \n",
      "Twilight: Breaking Dawn  2011  \n",
      "Monte Carlo              2011  \n",
      "Midnight in Paris        2011  \n"
     ]
    }
   ],
   "source": [
    "print(df1.sort_values(by=\"Year\", ascending = False).head(4))"
   ]
  },
  {
   "cell_type": "code",
   "execution_count": 42,
   "id": "1de6ceb7",
   "metadata": {},
   "outputs": [
    {
     "name": "stdout",
     "output_type": "stream",
     "text": [
      "                           Genre       Lead Studio  Audience score %  \\\n",
      "Title                                                                  \n",
      "Water For Elephants        Drama  20th Century Fox                72   \n",
      "Waiting For Forever      Romance       Independent                53   \n",
      "Twilight: Breaking Dawn  Romance       Independent                68   \n",
      "Something Borrowed       Romance       Independent                48   \n",
      "\n",
      "                         Profitability  Rotten Tomatoes % Worldwide Gross  \\\n",
      "Title                                                                       \n",
      "Water For Elephants           3.081421                 60        $117.09    \n",
      "Waiting For Forever           0.005000                  6          $0.03    \n",
      "Twilight: Breaking Dawn       6.383364                 26        $702.17    \n",
      "Something Borrowed            1.719514                 15         $60.18    \n",
      "\n",
      "                         Year  \n",
      "Title                          \n",
      "Water For Elephants      2011  \n",
      "Waiting For Forever      2011  \n",
      "Twilight: Breaking Dawn  2011  \n",
      "Something Borrowed       2011  \n"
     ]
    }
   ],
   "source": [
    "print(df1.sort_values(by=[\"Year\",\"Title\"], ascending = False).head(4))"
   ]
  },
  {
   "cell_type": "code",
   "execution_count": 43,
   "id": "9ddd42d5",
   "metadata": {},
   "outputs": [
    {
     "name": "stdout",
     "output_type": "stream",
     "text": [
      "                       Genre  Lead Studio  Audience score %  Profitability  \\\n",
      "Title                                                                        \n",
      "(500) Days of Summer  comedy          Fox                81       8.096000   \n",
      "27 Dresses            Comedy          Fox                71       5.343622   \n",
      "A Dangerous Method     Drama  Independent                89       0.448645   \n",
      "\n",
      "                      Rotten Tomatoes % Worldwide Gross  Year  \n",
      "Title                                                          \n",
      "(500) Days of Summer                 87         $60.72   2009  \n",
      "27 Dresses                           40        $160.31   2008  \n",
      "A Dangerous Method                   79          $8.97   2011  \n"
     ]
    }
   ],
   "source": [
    "print(df1.sort_index().head(3))"
   ]
  },
  {
   "cell_type": "code",
   "execution_count": 44,
   "id": "9ecd10aa",
   "metadata": {},
   "outputs": [
    {
     "name": "stdout",
     "output_type": "stream",
     "text": [
      "Title\n",
      "Zack and Miri Make a Porno            Romance\n",
      "Youth in Revolt                        Comedy\n",
      "You Will Meet a Tall Dark Stranger     Comedy\n",
      "When in Rome                           Comedy\n",
      "What Happens in Vegas                  Comedy\n",
      "                                       ...   \n",
      "Across the Universe                   romance\n",
      "A Serious Man                           Drama\n",
      "A Dangerous Method                      Drama\n",
      "27 Dresses                             Comedy\n",
      "(500) Days of Summer                   comedy\n",
      "Name: Genre, Length: 77, dtype: object\n"
     ]
    }
   ],
   "source": [
    "print(df[\"Genre\"])"
   ]
  },
  {
   "cell_type": "code",
   "execution_count": 45,
   "id": "07bc49ca",
   "metadata": {},
   "outputs": [
    {
     "name": "stdout",
     "output_type": "stream",
     "text": [
      "Comedy       41\n",
      "Romance      13\n",
      "Drama        13\n",
      "Animation     4\n",
      "Fantasy       1\n",
      "Romence       1\n",
      "Comdy         1\n",
      "Action        1\n",
      "romance       1\n",
      "comedy        1\n",
      "Name: Genre, dtype: int64\n"
     ]
    }
   ],
   "source": [
    "print(df[\"Genre\"].value_counts())"
   ]
  },
  {
   "cell_type": "code",
   "execution_count": 46,
   "id": "135bd8f5",
   "metadata": {},
   "outputs": [
    {
     "name": "stdout",
     "output_type": "stream",
     "text": [
      "                                     Genre            Lead Studio  \\\n",
      "Title                                                               \n",
      "Youth in Revolt                     Comedy  The Weinstein Company   \n",
      "You Will Meet a Tall Dark Stranger  Comedy            Independent   \n",
      "When in Rome                        Comedy                 Disney   \n",
      "What Happens in Vegas               Comedy                    Fox   \n",
      "Valentine's Day                     Comedy           Warner Bros.   \n",
      "The Ugly Truth                      Comedy            Independent   \n",
      "The Proposal                        Comedy                 Disney   \n",
      "The Invention of Lying              Comedy           Warner Bros.   \n",
      "The Heartbreak Kid                  Comedy              Paramount   \n",
      "The Back-up Plan                    Comedy                    CBS   \n",
      "She's Out of My League              Comedy              Paramount   \n",
      "Sex and the City Two                Comedy           Warner Bros.   \n",
      "Sex and the City 2                  Comedy           Warner Bros.   \n",
      "Sex and the City                    Comedy           Warner Bros.   \n",
      "Penelope                            Comedy                 Summit   \n",
      "Over Her Dead Body                  Comedy               New Line   \n",
      "Our Family Wedding                  Comedy            Independent   \n",
      "No Reservations                     Comedy           Warner Bros.   \n",
      "Nick and Norah's Infinite Playlist  Comedy                   Sony   \n",
      "Miss Pettigrew Lives for a Day      Comedy            Independent   \n",
      "Marley and Me                       Comedy                    Fox   \n",
      "Mamma Mia!                          Comedy              Universal   \n",
      "Mamma Mia!                          Comedy              Universal   \n",
      "Love & Other Drugs                  Comedy                    Fox   \n",
      "Life as We Know It                  Comedy            Independent   \n",
      "License to Wed                      Comedy           Warner Bros.   \n",
      "Letters to Juliet                   Comedy                 Summit   \n",
      "Leap Year                           Comedy              Universal   \n",
      "Knocked Up                          Comedy              Universal   \n",
      "Just Wright                         Comedy                    Fox   \n",
      "It's Complicated                    Comedy              Universal   \n",
      "I Love You Phillip Morris           Comedy            Independent   \n",
      "High School Musical 3: Senior Year  Comedy                 Disney   \n",
      "He's Just Not That Into You         Comedy           Warner Bros.   \n",
      "Good Luck Chuck                     Comedy              Lionsgate   \n",
      "Going the Distance                  Comedy           Warner Bros.   \n",
      "Ghosts of Girlfriends Past          Comedy           Warner Bros.   \n",
      "Four Christmases                    Comedy           Warner Bros.   \n",
      "Enchanted                           Comedy                 Disney   \n",
      "Beginners                           Comedy            Independent   \n",
      "27 Dresses                          Comedy                    Fox   \n",
      "\n",
      "                                    Audience score %  Profitability  \\\n",
      "Title                                                                 \n",
      "Youth in Revolt                                   52       1.090000   \n",
      "You Will Meet a Tall Dark Stranger                35       1.211818   \n",
      "When in Rome                                      44       0.000000   \n",
      "What Happens in Vegas                             72       6.267647   \n",
      "Valentine's Day                                   54       4.184038   \n",
      "The Ugly Truth                                    68       5.402632   \n",
      "The Proposal                                      74       7.867500   \n",
      "The Invention of Lying                            47       1.751351   \n",
      "The Heartbreak Kid                                41       2.129444   \n",
      "The Back-up Plan                                  47       2.202571   \n",
      "She's Out of My League                            60       2.440500   \n",
      "Sex and the City Two                              49       2.883500   \n",
      "Sex and the City 2                                49       2.883500   \n",
      "Sex and the City                                  81       7.221796   \n",
      "Penelope                                          74       1.382800   \n",
      "Over Her Dead Body                                47       2.071000   \n",
      "Our Family Wedding                                49       0.000000   \n",
      "No Reservations                                   64       3.307180   \n",
      "Nick and Norah's Infinite Playlist                67       3.352729   \n",
      "Miss Pettigrew Lives for a Day                    70       0.252895   \n",
      "Marley and Me                                     77       3.746782   \n",
      "Mamma Mia!                                        76       9.234454   \n",
      "Mamma Mia!                                        76       9.234454   \n",
      "Love & Other Drugs                                55       1.817667   \n",
      "Life as We Know It                                62       2.530526   \n",
      "License to Wed                                    55       1.980206   \n",
      "Letters to Juliet                                 62       2.639333   \n",
      "Leap Year                                         49       1.715263   \n",
      "Knocked Up                                        83       6.636402   \n",
      "Just Wright                                       58       1.797417   \n",
      "It's Complicated                                  63       2.642353   \n",
      "I Love You Phillip Morris                         57       1.340000   \n",
      "High School Musical 3: Senior Year                76      22.913136   \n",
      "He's Just Not That Into You                       60       7.153600   \n",
      "Good Luck Chuck                                   61       2.367685   \n",
      "Going the Distance                                56       1.314062   \n",
      "Ghosts of Girlfriends Past                        47       2.044400   \n",
      "Four Christmases                                  52       2.022925   \n",
      "Enchanted                                         80       4.005737   \n",
      "Beginners                                         80       4.471875   \n",
      "27 Dresses                                        71       5.343622   \n",
      "\n",
      "                                    Rotten Tomatoes % Worldwide Gross  Year  \n",
      "Title                                                                        \n",
      "Youth in Revolt                                    68         $19.62   2010  \n",
      "You Will Meet a Tall Dark Stranger                 43         $26.66   2010  \n",
      "When in Rome                                       15         $43.04   2010  \n",
      "What Happens in Vegas                              28        $219.37   2008  \n",
      "Valentine's Day                                    17        $217.57   2010  \n",
      "The Ugly Truth                                     14        $205.30   2009  \n",
      "The Proposal                                       43        $314.70   2009  \n",
      "The Invention of Lying                             56         $32.40   2009  \n",
      "The Heartbreak Kid                                 30        $127.77   2007  \n",
      "The Back-up Plan                                   20         $77.09   2010  \n",
      "She's Out of My League                             57         $48.81   2010  \n",
      "Sex and the City Two                               15        $288.35   2010  \n",
      "Sex and the City 2                                 15        $288.35   2010  \n",
      "Sex and the City                                   49        $415.25   2008  \n",
      "Penelope                                           52         $20.74   2008  \n",
      "Over Her Dead Body                                 15         $20.71   2008  \n",
      "Our Family Wedding                                 14         $21.37   2010  \n",
      "No Reservations                                    39         $92.60   2007  \n",
      "Nick and Norah's Infinite Playlist                 73         $33.53   2008  \n",
      "Miss Pettigrew Lives for a Day                     78         $15.17   2008  \n",
      "Marley and Me                                      63        $206.07   2008  \n",
      "Mamma Mia!                                         53        $609.47   2008  \n",
      "Mamma Mia!                                         53        $609.47   2008  \n",
      "Love & Other Drugs                                 48         $54.53   2010  \n",
      "Life as We Know It                                 28         $96.16   2010  \n",
      "License to Wed                                      8         $69.31   2007  \n",
      "Letters to Juliet                                  40         $79.18   2010  \n",
      "Leap Year                                          21         $32.59   2010  \n",
      "Knocked Up                                         91           $219   2007  \n",
      "Just Wright                                        45         $21.57   2010  \n",
      "It's Complicated                                   56        $224.60   2009  \n",
      "I Love You Phillip Morris                          71         $20.10   2010  \n",
      "High School Musical 3: Senior Year                 65        $252.04   2008  \n",
      "He's Just Not That Into You                        42        $178.84   2009  \n",
      "Good Luck Chuck                                     3         $59.19   2007  \n",
      "Going the Distance                                 53         $42.05   2010  \n",
      "Ghosts of Girlfriends Past                         27        $102.22   2009  \n",
      "Four Christmases                                   26        $161.83   2008  \n",
      "Enchanted                                          93        $340.49   2007  \n",
      "Beginners                                          84         $14.31   2011  \n",
      "27 Dresses                                         40        $160.31   2008  \n"
     ]
    }
   ],
   "source": [
    "print(df[df[\"Genre\"] == \"Comedy\"])"
   ]
  },
  {
   "cell_type": "code",
   "execution_count": 47,
   "id": "8c2bc362",
   "metadata": {},
   "outputs": [
    {
     "name": "stdout",
     "output_type": "stream",
     "text": [
      "                                     Genre            Lead Studio  \\\n",
      "Title                                                               \n",
      "Youth in Revolt                     Comedy  The Weinstein Company   \n",
      "You Will Meet a Tall Dark Stranger  Comedy            Independent   \n",
      "When in Rome                        Comedy                 Disney   \n",
      "What Happens in Vegas               Comedy                    Fox   \n",
      "Valentine's Day                     Comedy           Warner Bros.   \n",
      "The Ugly Truth                      Comedy            Independent   \n",
      "The Proposal                        Comedy                 Disney   \n",
      "The Invention of Lying              Comedy           Warner Bros.   \n",
      "The Heartbreak Kid                  Comedy              Paramount   \n",
      "The Back-up Plan                    Comedy                    CBS   \n",
      "She's Out of My League              Comedy              Paramount   \n",
      "Sex and the City Two                Comedy           Warner Bros.   \n",
      "Sex and the City 2                  Comedy           Warner Bros.   \n",
      "Sex and the City                    Comedy           Warner Bros.   \n",
      "Penelope                            Comedy                 Summit   \n",
      "Over Her Dead Body                  Comedy               New Line   \n",
      "Our Family Wedding                  Comedy            Independent   \n",
      "No Reservations                     Comedy           Warner Bros.   \n",
      "Nick and Norah's Infinite Playlist  Comedy                   Sony   \n",
      "Miss Pettigrew Lives for a Day      Comedy            Independent   \n",
      "Marley and Me                       Comedy                    Fox   \n",
      "Mamma Mia!                          Comedy              Universal   \n",
      "Mamma Mia!                          Comedy              Universal   \n",
      "Love & Other Drugs                  Comedy                    Fox   \n",
      "Life as We Know It                  Comedy            Independent   \n",
      "License to Wed                      Comedy           Warner Bros.   \n",
      "Letters to Juliet                   Comedy                 Summit   \n",
      "Leap Year                           Comedy              Universal   \n",
      "Knocked Up                          Comedy              Universal   \n",
      "Just Wright                         Comedy                    Fox   \n",
      "It's Complicated                    Comedy              Universal   \n",
      "I Love You Phillip Morris           Comedy            Independent   \n",
      "High School Musical 3: Senior Year  Comedy                 Disney   \n",
      "He's Just Not That Into You         Comedy           Warner Bros.   \n",
      "Good Luck Chuck                     Comedy              Lionsgate   \n",
      "Going the Distance                  Comedy           Warner Bros.   \n",
      "Ghosts of Girlfriends Past          Comedy           Warner Bros.   \n",
      "Four Christmases                    Comedy           Warner Bros.   \n",
      "Enchanted                           Comedy                 Disney   \n",
      "Beginners                           Comedy            Independent   \n",
      "27 Dresses                          Comedy                    Fox   \n",
      "\n",
      "                                    Audience score %  Profitability  \\\n",
      "Title                                                                 \n",
      "Youth in Revolt                                   52       1.090000   \n",
      "You Will Meet a Tall Dark Stranger                35       1.211818   \n",
      "When in Rome                                      44       0.000000   \n",
      "What Happens in Vegas                             72       6.267647   \n",
      "Valentine's Day                                   54       4.184038   \n",
      "The Ugly Truth                                    68       5.402632   \n",
      "The Proposal                                      74       7.867500   \n",
      "The Invention of Lying                            47       1.751351   \n",
      "The Heartbreak Kid                                41       2.129444   \n",
      "The Back-up Plan                                  47       2.202571   \n",
      "She's Out of My League                            60       2.440500   \n",
      "Sex and the City Two                              49       2.883500   \n",
      "Sex and the City 2                                49       2.883500   \n",
      "Sex and the City                                  81       7.221796   \n",
      "Penelope                                          74       1.382800   \n",
      "Over Her Dead Body                                47       2.071000   \n",
      "Our Family Wedding                                49       0.000000   \n",
      "No Reservations                                   64       3.307180   \n",
      "Nick and Norah's Infinite Playlist                67       3.352729   \n",
      "Miss Pettigrew Lives for a Day                    70       0.252895   \n",
      "Marley and Me                                     77       3.746782   \n",
      "Mamma Mia!                                        76       9.234454   \n",
      "Mamma Mia!                                        76       9.234454   \n",
      "Love & Other Drugs                                55       1.817667   \n",
      "Life as We Know It                                62       2.530526   \n",
      "License to Wed                                    55       1.980206   \n",
      "Letters to Juliet                                 62       2.639333   \n",
      "Leap Year                                         49       1.715263   \n",
      "Knocked Up                                        83       6.636402   \n",
      "Just Wright                                       58       1.797417   \n",
      "It's Complicated                                  63       2.642353   \n",
      "I Love You Phillip Morris                         57       1.340000   \n",
      "High School Musical 3: Senior Year                76      22.913136   \n",
      "He's Just Not That Into You                       60       7.153600   \n",
      "Good Luck Chuck                                   61       2.367685   \n",
      "Going the Distance                                56       1.314062   \n",
      "Ghosts of Girlfriends Past                        47       2.044400   \n",
      "Four Christmases                                  52       2.022925   \n",
      "Enchanted                                         80       4.005737   \n",
      "Beginners                                         80       4.471875   \n",
      "27 Dresses                                        71       5.343622   \n",
      "\n",
      "                                    Rotten Tomatoes % Worldwide Gross  Year  \n",
      "Title                                                                        \n",
      "Youth in Revolt                                    68         $19.62   2010  \n",
      "You Will Meet a Tall Dark Stranger                 43         $26.66   2010  \n",
      "When in Rome                                       15         $43.04   2010  \n",
      "What Happens in Vegas                              28        $219.37   2008  \n",
      "Valentine's Day                                    17        $217.57   2010  \n",
      "The Ugly Truth                                     14        $205.30   2009  \n",
      "The Proposal                                       43        $314.70   2009  \n",
      "The Invention of Lying                             56         $32.40   2009  \n",
      "The Heartbreak Kid                                 30        $127.77   2007  \n",
      "The Back-up Plan                                   20         $77.09   2010  \n",
      "She's Out of My League                             57         $48.81   2010  \n",
      "Sex and the City Two                               15        $288.35   2010  \n",
      "Sex and the City 2                                 15        $288.35   2010  \n",
      "Sex and the City                                   49        $415.25   2008  \n",
      "Penelope                                           52         $20.74   2008  \n",
      "Over Her Dead Body                                 15         $20.71   2008  \n",
      "Our Family Wedding                                 14         $21.37   2010  \n",
      "No Reservations                                    39         $92.60   2007  \n",
      "Nick and Norah's Infinite Playlist                 73         $33.53   2008  \n",
      "Miss Pettigrew Lives for a Day                     78         $15.17   2008  \n",
      "Marley and Me                                      63        $206.07   2008  \n",
      "Mamma Mia!                                         53        $609.47   2008  \n",
      "Mamma Mia!                                         53        $609.47   2008  \n",
      "Love & Other Drugs                                 48         $54.53   2010  \n",
      "Life as We Know It                                 28         $96.16   2010  \n",
      "License to Wed                                      8         $69.31   2007  \n",
      "Letters to Juliet                                  40         $79.18   2010  \n",
      "Leap Year                                          21         $32.59   2010  \n",
      "Knocked Up                                         91           $219   2007  \n",
      "Just Wright                                        45         $21.57   2010  \n",
      "It's Complicated                                   56        $224.60   2009  \n",
      "I Love You Phillip Morris                          71         $20.10   2010  \n",
      "High School Musical 3: Senior Year                 65        $252.04   2008  \n",
      "He's Just Not That Into You                        42        $178.84   2009  \n",
      "Good Luck Chuck                                     3         $59.19   2007  \n",
      "Going the Distance                                 53         $42.05   2010  \n",
      "Ghosts of Girlfriends Past                         27        $102.22   2009  \n",
      "Four Christmases                                   26        $161.83   2008  \n",
      "Enchanted                                          93        $340.49   2007  \n",
      "Beginners                                          84         $14.31   2011  \n",
      "27 Dresses                                         40        $160.31   2008  \n"
     ]
    }
   ],
   "source": [
    "released_by_comedy = (df[\"Genre\"] == \"Comedy\")\n",
    "print(df[released_by_comedy])"
   ]
  },
  {
   "cell_type": "code",
   "execution_count": 48,
   "id": "acd6e9e4",
   "metadata": {},
   "outputs": [
    {
     "name": "stdout",
     "output_type": "stream",
     "text": [
      "                                     Genre   Lead Studio  Audience score %  \\\n",
      "Title                                                                        \n",
      "What Happens in Vegas               Comedy           Fox                72   \n",
      "Sex and the City                    Comedy  Warner Bros.                81   \n",
      "Penelope                            Comedy        Summit                74   \n",
      "Over Her Dead Body                  Comedy      New Line                47   \n",
      "Nick and Norah's Infinite Playlist  Comedy          Sony                67   \n",
      "Miss Pettigrew Lives for a Day      Comedy   Independent                70   \n",
      "Marley and Me                       Comedy           Fox                77   \n",
      "Mamma Mia!                          Comedy     Universal                76   \n",
      "Mamma Mia!                          Comedy     Universal                76   \n",
      "High School Musical 3: Senior Year  Comedy        Disney                76   \n",
      "Four Christmases                    Comedy  Warner Bros.                52   \n",
      "27 Dresses                          Comedy           Fox                71   \n",
      "\n",
      "                                    Profitability  Rotten Tomatoes %  \\\n",
      "Title                                                                  \n",
      "What Happens in Vegas                    6.267647                 28   \n",
      "Sex and the City                         7.221796                 49   \n",
      "Penelope                                 1.382800                 52   \n",
      "Over Her Dead Body                       2.071000                 15   \n",
      "Nick and Norah's Infinite Playlist       3.352729                 73   \n",
      "Miss Pettigrew Lives for a Day           0.252895                 78   \n",
      "Marley and Me                            3.746782                 63   \n",
      "Mamma Mia!                               9.234454                 53   \n",
      "Mamma Mia!                               9.234454                 53   \n",
      "High School Musical 3: Senior Year      22.913136                 65   \n",
      "Four Christmases                         2.022925                 26   \n",
      "27 Dresses                               5.343622                 40   \n",
      "\n",
      "                                   Worldwide Gross  Year  \n",
      "Title                                                     \n",
      "What Happens in Vegas                     $219.37   2008  \n",
      "Sex and the City                          $415.25   2008  \n",
      "Penelope                                   $20.74   2008  \n",
      "Over Her Dead Body                         $20.71   2008  \n",
      "Nick and Norah's Infinite Playlist         $33.53   2008  \n",
      "Miss Pettigrew Lives for a Day             $15.17   2008  \n",
      "Marley and Me                             $206.07   2008  \n",
      "Mamma Mia!                                $609.47   2008  \n",
      "Mamma Mia!                                $609.47   2008  \n",
      "High School Musical 3: Senior Year        $252.04   2008  \n",
      "Four Christmases                          $161.83   2008  \n",
      "27 Dresses                                $160.31   2008  \n"
     ]
    }
   ],
   "source": [
    "released_by_comedy = (df[\"Genre\"] == \"Comedy\")\n",
    "released_in_2008 = df[\"Year\"] == 2008\n",
    "print(df[released_by_comedy & released_in_2008])"
   ]
  },
  {
   "cell_type": "code",
   "execution_count": 49,
   "id": "0d0a1e75",
   "metadata": {},
   "outputs": [
    {
     "name": "stdout",
     "output_type": "stream",
     "text": [
      "                                       Genre   Lead Studio  Audience score %  \\\n",
      "Title                                                                          \n",
      "Waitress                             Romance   Independent                67   \n",
      "Tyler Perry's Why Did I get Married  Romance   Independent                47   \n",
      "The Heartbreak Kid                    Comedy     Paramount                41   \n",
      "P.S. I Love You                      Romance   Independent                82   \n",
      "No Reservations                       Comedy  Warner Bros.                64   \n",
      "Music and Lyrics                     Romance  Warner Bros.                70   \n",
      "License to Wed                        Comedy  Warner Bros.                55   \n",
      "Knocked Up                            Comedy     Universal                83   \n",
      "Good Luck Chuck                       Comedy     Lionsgate                61   \n",
      "Enchanted                             Comedy        Disney                80   \n",
      "Across the Universe                  romance   Independent                84   \n",
      "\n",
      "                                     Profitability  Rotten Tomatoes %  \\\n",
      "Title                                                                   \n",
      "Waitress                                 11.089742                 89   \n",
      "Tyler Perry's Why Did I get Married       3.724192                 46   \n",
      "The Heartbreak Kid                        2.129444                 30   \n",
      "P.S. I Love You                           5.103117                 21   \n",
      "No Reservations                           3.307180                 39   \n",
      "Music and Lyrics                          3.647411                 63   \n",
      "License to Wed                            1.980206                  8   \n",
      "Knocked Up                                6.636402                 91   \n",
      "Good Luck Chuck                           2.367685                  3   \n",
      "Enchanted                                 4.005737                 93   \n",
      "Across the Universe                       0.652603                 54   \n",
      "\n",
      "                                    Worldwide Gross  Year  \n",
      "Title                                                      \n",
      "Waitress                                    $22.18   2007  \n",
      "Tyler Perry's Why Did I get Married         $55.86   2007  \n",
      "The Heartbreak Kid                         $127.77   2007  \n",
      "P.S. I Love You                            $153.09   2007  \n",
      "No Reservations                             $92.60   2007  \n",
      "Music and Lyrics                           $145.90   2007  \n",
      "License to Wed                              $69.31   2007  \n",
      "Knocked Up                                    $219   2007  \n",
      "Good Luck Chuck                             $59.19   2007  \n",
      "Enchanted                                  $340.49   2007  \n",
      "Across the Universe                         $29.37   2007  \n"
     ]
    }
   ],
   "source": [
    "before_2008 = df[\"Year\"] < 2008\n",
    "print(df[before_2008])"
   ]
  },
  {
   "cell_type": "code",
   "execution_count": 52,
   "id": "aa0e5296",
   "metadata": {},
   "outputs": [
    {
     "name": "stdout",
     "output_type": "stream",
     "text": [
      "                                      Genre            Lead Studio  \\\n",
      "Title                                                                \n",
      "Zack and Miri Make a Porno          Romance  The Weinstein Company   \n",
      "Youth in Revolt                      Comedy  The Weinstein Company   \n",
      "You Will Meet a Tall Dark Stranger   Comedy            Independent   \n",
      "When in Rome                         Comedy                 Disney   \n",
      "What Happens in Vegas                Comedy                    Fox   \n",
      "...                                     ...                    ...   \n",
      "Dear John                             Drama                   Sony   \n",
      "Across the Universe                 romance            Independent   \n",
      "A Serious Man                         Drama              Universal   \n",
      "27 Dresses                           Comedy                    Fox   \n",
      "(500) Days of Summer                 comedy                    Fox   \n",
      "\n",
      "                                    Audience score %  Profitability  \\\n",
      "Title                                                                 \n",
      "Zack and Miri Make a Porno                        70       1.747542   \n",
      "Youth in Revolt                                   52       1.090000   \n",
      "You Will Meet a Tall Dark Stranger                35       1.211818   \n",
      "When in Rome                                      44       0.000000   \n",
      "What Happens in Vegas                             72       6.267647   \n",
      "...                                              ...            ...   \n",
      "Dear John                                         66       4.598800   \n",
      "Across the Universe                               84       0.652603   \n",
      "A Serious Man                                     64       4.382857   \n",
      "27 Dresses                                        71       5.343622   \n",
      "(500) Days of Summer                              81       8.096000   \n",
      "\n",
      "                                    Rotten Tomatoes % Worldwide Gross  Year  \n",
      "Title                                                                        \n",
      "Zack and Miri Make a Porno                         64         $41.94   2008  \n",
      "Youth in Revolt                                    68         $19.62   2010  \n",
      "You Will Meet a Tall Dark Stranger                 43         $26.66   2010  \n",
      "When in Rome                                       15         $43.04   2010  \n",
      "What Happens in Vegas                              28        $219.37   2008  \n",
      "...                                               ...             ...   ...  \n",
      "Dear John                                          29        $114.97   2010  \n",
      "Across the Universe                                54         $29.37   2007  \n",
      "A Serious Man                                      89         $30.68   2009  \n",
      "27 Dresses                                         40        $160.31   2008  \n",
      "(500) Days of Summer                               87         $60.72   2009  \n",
      "\n",
      "[63 rows x 7 columns]\n"
     ]
    }
   ],
   "source": [
    "mid_10s = df1[\"Year\"].between(2007, 2010)\n",
    "print(df1[mid_10s])"
   ]
  },
  {
   "cell_type": "code",
   "execution_count": 59,
   "id": "9fe64688",
   "metadata": {},
   "outputs": [
    {
     "name": "stdout",
     "output_type": "stream",
     "text": [
      "                              Rank           Studio       Gross  Year\n",
      "Title                                                                \n",
      "Avengers: Endgame                1      Buena Vista  $2,796.30   2019\n",
      "Avatar                           2              Fox  $2,789.70   2009\n",
      "Titanic                          3        Paramount  $2,187.50   1997\n",
      "Star Wars: The Force Awakens     4      Buena Vista  $2,068.20   2015\n",
      "Avengers: Infinity War           5      Buena Vista  $2,048.40   2018\n",
      "...                            ...              ...         ...   ...\n",
      "Yogi Bear                      778  Warner Brothers    $201.60   2010\n",
      "Garfield: The Movie            779              Fox    $200.80   2004\n",
      "Cats & Dogs                    780  Warner Brothers    $200.70   2001\n",
      "The Hunt for Red October       781        Paramount    $200.50   1990\n",
      "Valkyrie                       782              MGM    $200.30   2008\n",
      "\n",
      "[782 rows x 4 columns]\n"
     ]
    }
   ],
   "source": [
    "movies = pd.read_csv(\"movies_1.csv\", index_col=\"Title\")\n",
    "print(movies)"
   ]
  },
  {
   "cell_type": "code",
   "execution_count": 55,
   "id": "d044d0c1",
   "metadata": {},
   "outputs": [
    {
     "name": "stdout",
     "output_type": "stream",
     "text": [
      "                                     Genre  Lead Studio  Audience score %  \\\n",
      "Title                                                                       \n",
      "You Will Meet a Tall Dark Stranger  Comedy  Independent                35   \n",
      "\n",
      "                                    Profitability  Rotten Tomatoes %  \\\n",
      "Title                                                                  \n",
      "You Will Meet a Tall Dark Stranger       1.211818                 43   \n",
      "\n",
      "                                   Worldwide Gross  Year  \n",
      "Title                                                     \n",
      "You Will Meet a Tall Dark Stranger         $26.66   2010  \n"
     ]
    }
   ],
   "source": [
    "has_dark_in_title = movies.index.str.lower().str.contains(\"dark\")\n",
    "print(movies[has_dark_in_title])"
   ]
  },
  {
   "cell_type": "code",
   "execution_count": 62,
   "id": "c9571686",
   "metadata": {},
   "outputs": [
    {
     "name": "stdout",
     "output_type": "stream",
     "text": [
      "Title\n",
      "Avengers: Endgame               2796.30 \n",
      "Avatar                          2789.70 \n",
      "Titanic                         2187.50 \n",
      "Star Wars: The Force Awakens    2068.20 \n",
      "Avengers: Infinity War          2048.40 \n",
      "                                  ...   \n",
      "Yogi Bear                        201.60 \n",
      "Garfield: The Movie              200.80 \n",
      "Cats & Dogs                      200.70 \n",
      "The Hunt for Red October         200.50 \n",
      "Valkyrie                         200.30 \n",
      "Name: Gross, Length: 782, dtype: object\n"
     ]
    }
   ],
   "source": [
    "print(movies[\"Gross\"].str.replace(\n",
    "             \"$\", \"\", regex = False\n",
    "         ).str.replace(\",\", \"\", regex = False)\n",
    "     )"
   ]
  },
  {
   "cell_type": "code",
   "execution_count": 63,
   "id": "d77e9f58",
   "metadata": {},
   "outputs": [
    {
     "name": "stdout",
     "output_type": "stream",
     "text": [
      "Title\n",
      "Avengers: Endgame               2,796.30 \n",
      "Avatar                          2,789.70 \n",
      "Titanic                         2,187.50 \n",
      "Star Wars: The Force Awakens    2,068.20 \n",
      "Avengers: Infinity War          2,048.40 \n",
      "                                  ...    \n",
      "Yogi Bear                         201.60 \n",
      "Garfield: The Movie               200.80 \n",
      "Cats & Dogs                       200.70 \n",
      "The Hunt for Red October          200.50 \n",
      "Valkyrie                          200.30 \n",
      "Name: Gross, Length: 782, dtype: object\n"
     ]
    }
   ],
   "source": [
    "print(movies[\"Gross\"].str.replace(\n",
    "             \"$\", \"\", regex = False\n",
    "         )\n",
    "     )"
   ]
  },
  {
   "cell_type": "code",
   "execution_count": 64,
   "id": "067e9629",
   "metadata": {},
   "outputs": [
    {
     "name": "stdout",
     "output_type": "stream",
     "text": [
      "Title\n",
      "Avengers: Endgame               2796.3\n",
      "Avatar                          2789.7\n",
      "Titanic                         2187.5\n",
      "Star Wars: The Force Awakens    2068.2\n",
      "Avengers: Infinity War          2048.4\n",
      "                                 ...  \n",
      "Yogi Bear                        201.6\n",
      "Garfield: The Movie              200.8\n",
      "Cats & Dogs                      200.7\n",
      "The Hunt for Red October         200.5\n",
      "Valkyrie                         200.3\n",
      "Name: Gross, Length: 782, dtype: float64\n"
     ]
    }
   ],
   "source": [
    "print((\n",
    "             movies[\"Gross\"]\n",
    "            .str.replace(\"$\", \"\", regex = False)\n",
    "            .str.replace(\",\", \"\", regex = False)\n",
    "            .astype(float)\n",
    "         ))"
   ]
  },
  {
   "cell_type": "code",
   "execution_count": 65,
   "id": "ce5eb2e7",
   "metadata": {},
   "outputs": [
    {
     "ename": "TypeError",
     "evalue": "Could not convert $2,796.30 $2,789.70 $2,187.50 $2,068.20 $2,048.40 $1,671.70 $1,518.80 $1,516.00 $1,405.40 $1,346.90 $1,341.70 $1,332.50 $1,309.50 $1,276.50 $1,263.50 $1,242.80 $1,236.00 $1,214.80 $1,159.40 $1,153.30 $1,148.00 $1,128.30 $1,123.80 $1,119.90 $1,108.60 $1,104.10 $1,084.90 $1,067.00 $1,066.20 $1,056.10 $1,045.70 $1,034.80 $1,029.50 $1,028.60 $1,027.00 $1,025.50 $1,023.80 $1,021.10 $1,004.90 $975.10 $970.80 $968.50 $966.60 $963.40 $962.10 $960.40 $958.40 $956.00 $940.30 $940.00 $934.50 $926.00 $919.80 $903.70 $897.10 $890.90 $886.70 $880.70 $880.20 $880.20 $879.20 $877.20 $875.50 $873.60 $871.50 $870.30 $865.00 $863.80 $857.60 $855.00 $854.00 $848.80 $836.30 $829.70 $828.30 $821.80 $821.70 $817.40 $814.00 $807.10 $799.00 $796.90 $794.90 $792.90 $791.10 $788.70 $786.60 $785.00 $783.80 $783.10 $775.40 $773.30 $769.70 $758.50 $758.20 $757.90 $755.40 $752.60 $747.90 $746.90 $746.80 $745.00 $744.20 $742.10 $735.10 $723.20 $714.30 $712.20 $710.60 $709.70 $709.70 $709.00 $700.40 $699.80 $698.50 $694.70 $694.40 $682.70 $677.90 $677.70 $677.50 $672.80 $668.00 $665.70 $660.90 $657.90 $657.80 $654.30 $653.80 $653.40 $649.40 $644.60 $643.30 $634.20 $633.00 $631.70 $630.20 $626.10 $624.40 $624.00 $623.90 $622.70 $621.50 $620.70 $619.00 $618.60 $611.90 $609.90 $609.00 $605.40 $603.90 $599.00 $591.80 $591.70 $589.40 $587.20 $586.80 $586.10 $585.30 $585.20 $582.90 $579.20 $577.40 $574.50 $571.00 $566.70 $563.70 $562.10 $555.00 $553.80 $553.70 $550.50 $549.40 $547.40 $546.40 $545.40 $544.30 $544.10 $543.90 $543.50 $543.10 $540.40 $540.00 $538.40 $533.30 $533.00 $532.70 $530.20 $529.30 $529.10 $528.60 $528.00 $527.10 $526.90 $524.00 $521.20 $520.90 $519.80 $519.80 $519.30 $516.60 $511.60 $505.70 $504.10 $500.10 $497.40 $497.40 $494.90 $494.50 $493.30 $493.30 $493.20 $490.70 $485.90 $484.60 $484.60 $484.40 $482.30 $481.80 $478.20 $476.70 $475.10 $475.00 $474.80 $474.20 $474.00 $471.20 $470.70 $469.20 $468.00 $467.50 $467.40 $463.50 $463.40 $463.40 $462.20 $460.60 $459.40 $457.70 $457.40 $456.80 $456.10 $450.70 $449.30 $449.20 $448.20 $446.10 $443.10 $442.80 $441.80 $441.80 $441.30 $441.30 $440.60 $435.00 $434.90 $433.70 $433.40 $433.00 $432.00 $429.60 $428.00 $427.50 $427.30 $426.60 $425.40 $425.00 $424.20 $419.70 $415.90 $415.70 $415.50 $415.30 $414.80 $414.40 $414.20 $413.10 $411.50 $411.00 $411.00 $410.90 $409.20 $408.60 $408.20 $407.70 $404.90 $403.40 $402.40 $401.10 $400.10 $397.90 $396.60 $396.20 $395.00 $393.60 $392.90 $392.00 $391.10 $390.50 $389.90 $389.70 $386.00 $385.70 $385.30 $384.30 $383.90 $383.50 $383.30 $381.50 $381.50 $381.10 $379.00 $378.90 $378.90 $378.10 $377.90 $376.10 $375.70 $375.50 $374.20 $374.10 $374.00 $373.60 $373.10 $373.00 $372.20 $371.90 $371.40 $370.60 $370.50 $369.90 $369.30 $368.90 $368.80 $368.70 $368.10 $367.30 $366.10 $365.60 $364.10 $363.90 $363.30 $363.20 $363.20 $362.70 $362.60 $362.20 $362.00 $361.80 $361.70 $361.30 $359.10 $359.00 $358.40 $358.40 $358.00 $356.80 $356.70 $356.30 $355.20 $354.80 $353.60 $353.60 $352.90 $352.80 $352.30 $352.20 $352.10 $351.80 $351.70 $351.70 $351.60 $351.30 $350.40 $349.80 $349.50 $349.50 $348.80 $348.30 $347.50 $347.50 $347.30 $347.20 $346.90 $346.10 $346.10 $345.10 $343.50 $342.70 $341.60 $341.40 $340.90 $340.50 $337.60 $336.60 $336.40 $336.00 $335.30 $335.10 $334.90 $334.90 $333.90 $333.10 $333.00 $332.20 $332.00 $331.30 $330.60 $330.40 $329.80 $329.40 $328.70 $328.20 $327.30 $326.60 $326.50 $325.30 $325.30 $325.20 $322.10 $321.90 $321.70 $321.70 $321.50 $320.70 $320.40 $320.30 $320.10 $319.70 $319.50 $317.40 $316.40 $315.20 $315.00 $314.40 $314.20 $313.50 $312.30 $312.20 $312.00 $312.00 $311.40 $311.30 $310.70 $310.00 $309.50 $309.50 $309.20 $307.20 $307.10 $306.90 $306.90 $306.80 $306.50 $305.90 $305.30 $304.90 $304.70 $304.70 $304.30 $303.10 $303.00 $302.90 $302.70 $302.50 $300.90 $300.50 $300.50 $300.40 $300.30 $300.20 $300.10 $300.00 $299.50 $299.30 $299.30 $297.70 $297.30 $297.10 $297.00 $296.70 $296.50 $296.30 $296.10 $295.20 $294.80 $294.50 $293.50 $292.80 $291.50 $291.40 $290.90 $289.30 $289.00 $288.90 $288.80 $288.50 $288.40 $288.30 $288.30 $287.90 $287.60 $287.60 $287.50 $286.80 $286.20 $286.10 $285.40 $285.20 $284.10 $282.60 $281.90 $278.50 $278.30 $278.00 $277.40 $277.30 $276.10 $275.70 $275.70 $275.30 $274.70 $274.70 $274.50 $274.30 $274.00 $273.60 $273.30 $273.10 $272.70 $271.40 $270.70 $270.20 $270.00 $270.00 $269.80 $268.40 $268.20 $268.00 $267.40 $267.00 $266.90 $266.70 $266.60 $266.50 $264.20 $264.10 $264.10 $263.90 $263.40 $262.80 $262.50 $261.90 $261.60 $261.30 $261.20 $260.70 $260.50 $260.10 $259.40 $259.20 $259.20 $258.00 $257.90 $257.00 $256.70 $256.30 $256.30 $255.50 $255.40 $255.00 $254.70 $254.20 $254.20 $254.10 $253.60 $252.90 $252.70 $252.30 $251.20 $251.20 $250.80 $250.60 $250.40 $250.30 $249.50 $249.30 $248.60 $248.10 $247.30 $247.00 $247.00 $246.90 $246.60 $246.20 $245.70 $245.70 $245.70 $245.60 $245.50 $245.40 $245.10 $245.10 $245.10 $244.90 $244.80 $244.50 $244.40 $243.80 $243.20 $243.00 $242.90 $242.80 $242.70 $242.70 $242.30 $242.00 $240.90 $240.90 $240.80 $240.00 $240.00 $239.60 $239.30 $238.50 $238.20 $237.70 $237.40 $237.20 $237.10 $236.40 $236.40 $236.00 $236.00 $235.90 $235.90 $235.70 $235.50 $235.00 $234.80 $234.80 $233.60 $233.10 $232.60 $232.30 $232.00 $231.60 $231.40 $231.40 $230.90 $230.70 $230.40 $229.90 $229.70 $229.20 $229.10 $228.70 $228.10 $227.90 $227.90 $227.80 $227.50 $227.30 $226.90 $226.90 $226.80 $226.50 $226.30 $225.90 $225.90 $225.90 $224.90 $224.80 $224.00 $223.70 $223.40 $223.20 $222.80 $222.70 $222.40 $222.20 $222.10 $221.60 $221.30 $220.90 $220.80 $220.70 $220.00 $219.90 $219.40 $219.40 $219.10 $219.10 $218.80 $218.60 $218.30 $217.80 $217.80 $217.10 $217.00 $216.80 $216.70 $216.60 $216.60 $216.50 $216.20 $215.90 $215.90 $215.90 $215.70 $215.40 $215.30 $215.30 $214.90 $214.70 $214.60 $214.10 $214.10 $214.10 $214.00 $214.00 $213.90 $213.70 $213.50 $213.20 $213.10 $212.90 $212.70 $212.40 $212.40 $212.00 $212.00 $212.00 $211.80 $211.80 $211.80 $211.70 $211.30 $211.30 $210.80 $210.30 $209.90 $209.60 $209.20 $209.20 $209.10 $208.30 $208.10 $207.70 $207.50 $207.30 $207.00 $206.70 $206.10 $205.80 $205.80 $205.60 $205.40 $205.40 $205.30 $205.10 $205.00 $205.00 $204.60 $203.60 $203.40 $203.40 $203.40 $203.30 $202.50 $202.40 $202.30 $202.00 $202.00 $202.00 $201.60 $201.60 $201.60 $200.80 $200.70 $200.50 $200.30  to numeric",
     "output_type": "error",
     "traceback": [
      "\u001b[0;31m---------------------------------------------------------------------------\u001b[0m",
      "\u001b[0;31mValueError\u001b[0m                                Traceback (most recent call last)",
      "File \u001b[0;32m~/Projects/jupy/venv/lib/python3.10/site-packages/pandas/core/nanops.py:1630\u001b[0m, in \u001b[0;36m_ensure_numeric\u001b[0;34m(x)\u001b[0m\n\u001b[1;32m   1629\u001b[0m \u001b[38;5;28;01mtry\u001b[39;00m:\n\u001b[0;32m-> 1630\u001b[0m     x \u001b[38;5;241m=\u001b[39m \u001b[38;5;28;43mfloat\u001b[39;49m\u001b[43m(\u001b[49m\u001b[43mx\u001b[49m\u001b[43m)\u001b[49m\n\u001b[1;32m   1631\u001b[0m \u001b[38;5;28;01mexcept\u001b[39;00m (\u001b[38;5;167;01mTypeError\u001b[39;00m, \u001b[38;5;167;01mValueError\u001b[39;00m):\n\u001b[1;32m   1632\u001b[0m     \u001b[38;5;66;03m# e.g. \"1+1j\" or \"foo\"\u001b[39;00m\n",
      "\u001b[0;31mValueError\u001b[0m: could not convert string to float: '$2,796.30 $2,789.70 $2,187.50 $2,068.20 $2,048.40 $1,671.70 $1,518.80 $1,516.00 $1,405.40 $1,346.90 $1,341.70 $1,332.50 $1,309.50 $1,276.50 $1,263.50 $1,242.80 $1,236.00 $1,214.80 $1,159.40 $1,153.30 $1,148.00 $1,128.30 $1,123.80 $1,119.90 $1,108.60 $1,104.10 $1,084.90 $1,067.00 $1,066.20 $1,056.10 $1,045.70 $1,034.80 $1,029.50 $1,028.60 $1,027.00 $1,025.50 $1,023.80 $1,021.10 $1,004.90 $975.10 $970.80 $968.50 $966.60 $963.40 $962.10 $960.40 $958.40 $956.00 $940.30 $940.00 $934.50 $926.00 $919.80 $903.70 $897.10 $890.90 $886.70 $880.70 $880.20 $880.20 $879.20 $877.20 $875.50 $873.60 $871.50 $870.30 $865.00 $863.80 $857.60 $855.00 $854.00 $848.80 $836.30 $829.70 $828.30 $821.80 $821.70 $817.40 $814.00 $807.10 $799.00 $796.90 $794.90 $792.90 $791.10 $788.70 $786.60 $785.00 $783.80 $783.10 $775.40 $773.30 $769.70 $758.50 $758.20 $757.90 $755.40 $752.60 $747.90 $746.90 $746.80 $745.00 $744.20 $742.10 $735.10 $723.20 $714.30 $712.20 $710.60 $709.70 $709.70 $709.00 $700.40 $699.80 $698.50 $694.70 $694.40 $682.70 $677.90 $677.70 $677.50 $672.80 $668.00 $665.70 $660.90 $657.90 $657.80 $654.30 $653.80 $653.40 $649.40 $644.60 $643.30 $634.20 $633.00 $631.70 $630.20 $626.10 $624.40 $624.00 $623.90 $622.70 $621.50 $620.70 $619.00 $618.60 $611.90 $609.90 $609.00 $605.40 $603.90 $599.00 $591.80 $591.70 $589.40 $587.20 $586.80 $586.10 $585.30 $585.20 $582.90 $579.20 $577.40 $574.50 $571.00 $566.70 $563.70 $562.10 $555.00 $553.80 $553.70 $550.50 $549.40 $547.40 $546.40 $545.40 $544.30 $544.10 $543.90 $543.50 $543.10 $540.40 $540.00 $538.40 $533.30 $533.00 $532.70 $530.20 $529.30 $529.10 $528.60 $528.00 $527.10 $526.90 $524.00 $521.20 $520.90 $519.80 $519.80 $519.30 $516.60 $511.60 $505.70 $504.10 $500.10 $497.40 $497.40 $494.90 $494.50 $493.30 $493.30 $493.20 $490.70 $485.90 $484.60 $484.60 $484.40 $482.30 $481.80 $478.20 $476.70 $475.10 $475.00 $474.80 $474.20 $474.00 $471.20 $470.70 $469.20 $468.00 $467.50 $467.40 $463.50 $463.40 $463.40 $462.20 $460.60 $459.40 $457.70 $457.40 $456.80 $456.10 $450.70 $449.30 $449.20 $448.20 $446.10 $443.10 $442.80 $441.80 $441.80 $441.30 $441.30 $440.60 $435.00 $434.90 $433.70 $433.40 $433.00 $432.00 $429.60 $428.00 $427.50 $427.30 $426.60 $425.40 $425.00 $424.20 $419.70 $415.90 $415.70 $415.50 $415.30 $414.80 $414.40 $414.20 $413.10 $411.50 $411.00 $411.00 $410.90 $409.20 $408.60 $408.20 $407.70 $404.90 $403.40 $402.40 $401.10 $400.10 $397.90 $396.60 $396.20 $395.00 $393.60 $392.90 $392.00 $391.10 $390.50 $389.90 $389.70 $386.00 $385.70 $385.30 $384.30 $383.90 $383.50 $383.30 $381.50 $381.50 $381.10 $379.00 $378.90 $378.90 $378.10 $377.90 $376.10 $375.70 $375.50 $374.20 $374.10 $374.00 $373.60 $373.10 $373.00 $372.20 $371.90 $371.40 $370.60 $370.50 $369.90 $369.30 $368.90 $368.80 $368.70 $368.10 $367.30 $366.10 $365.60 $364.10 $363.90 $363.30 $363.20 $363.20 $362.70 $362.60 $362.20 $362.00 $361.80 $361.70 $361.30 $359.10 $359.00 $358.40 $358.40 $358.00 $356.80 $356.70 $356.30 $355.20 $354.80 $353.60 $353.60 $352.90 $352.80 $352.30 $352.20 $352.10 $351.80 $351.70 $351.70 $351.60 $351.30 $350.40 $349.80 $349.50 $349.50 $348.80 $348.30 $347.50 $347.50 $347.30 $347.20 $346.90 $346.10 $346.10 $345.10 $343.50 $342.70 $341.60 $341.40 $340.90 $340.50 $337.60 $336.60 $336.40 $336.00 $335.30 $335.10 $334.90 $334.90 $333.90 $333.10 $333.00 $332.20 $332.00 $331.30 $330.60 $330.40 $329.80 $329.40 $328.70 $328.20 $327.30 $326.60 $326.50 $325.30 $325.30 $325.20 $322.10 $321.90 $321.70 $321.70 $321.50 $320.70 $320.40 $320.30 $320.10 $319.70 $319.50 $317.40 $316.40 $315.20 $315.00 $314.40 $314.20 $313.50 $312.30 $312.20 $312.00 $312.00 $311.40 $311.30 $310.70 $310.00 $309.50 $309.50 $309.20 $307.20 $307.10 $306.90 $306.90 $306.80 $306.50 $305.90 $305.30 $304.90 $304.70 $304.70 $304.30 $303.10 $303.00 $302.90 $302.70 $302.50 $300.90 $300.50 $300.50 $300.40 $300.30 $300.20 $300.10 $300.00 $299.50 $299.30 $299.30 $297.70 $297.30 $297.10 $297.00 $296.70 $296.50 $296.30 $296.10 $295.20 $294.80 $294.50 $293.50 $292.80 $291.50 $291.40 $290.90 $289.30 $289.00 $288.90 $288.80 $288.50 $288.40 $288.30 $288.30 $287.90 $287.60 $287.60 $287.50 $286.80 $286.20 $286.10 $285.40 $285.20 $284.10 $282.60 $281.90 $278.50 $278.30 $278.00 $277.40 $277.30 $276.10 $275.70 $275.70 $275.30 $274.70 $274.70 $274.50 $274.30 $274.00 $273.60 $273.30 $273.10 $272.70 $271.40 $270.70 $270.20 $270.00 $270.00 $269.80 $268.40 $268.20 $268.00 $267.40 $267.00 $266.90 $266.70 $266.60 $266.50 $264.20 $264.10 $264.10 $263.90 $263.40 $262.80 $262.50 $261.90 $261.60 $261.30 $261.20 $260.70 $260.50 $260.10 $259.40 $259.20 $259.20 $258.00 $257.90 $257.00 $256.70 $256.30 $256.30 $255.50 $255.40 $255.00 $254.70 $254.20 $254.20 $254.10 $253.60 $252.90 $252.70 $252.30 $251.20 $251.20 $250.80 $250.60 $250.40 $250.30 $249.50 $249.30 $248.60 $248.10 $247.30 $247.00 $247.00 $246.90 $246.60 $246.20 $245.70 $245.70 $245.70 $245.60 $245.50 $245.40 $245.10 $245.10 $245.10 $244.90 $244.80 $244.50 $244.40 $243.80 $243.20 $243.00 $242.90 $242.80 $242.70 $242.70 $242.30 $242.00 $240.90 $240.90 $240.80 $240.00 $240.00 $239.60 $239.30 $238.50 $238.20 $237.70 $237.40 $237.20 $237.10 $236.40 $236.40 $236.00 $236.00 $235.90 $235.90 $235.70 $235.50 $235.00 $234.80 $234.80 $233.60 $233.10 $232.60 $232.30 $232.00 $231.60 $231.40 $231.40 $230.90 $230.70 $230.40 $229.90 $229.70 $229.20 $229.10 $228.70 $228.10 $227.90 $227.90 $227.80 $227.50 $227.30 $226.90 $226.90 $226.80 $226.50 $226.30 $225.90 $225.90 $225.90 $224.90 $224.80 $224.00 $223.70 $223.40 $223.20 $222.80 $222.70 $222.40 $222.20 $222.10 $221.60 $221.30 $220.90 $220.80 $220.70 $220.00 $219.90 $219.40 $219.40 $219.10 $219.10 $218.80 $218.60 $218.30 $217.80 $217.80 $217.10 $217.00 $216.80 $216.70 $216.60 $216.60 $216.50 $216.20 $215.90 $215.90 $215.90 $215.70 $215.40 $215.30 $215.30 $214.90 $214.70 $214.60 $214.10 $214.10 $214.10 $214.00 $214.00 $213.90 $213.70 $213.50 $213.20 $213.10 $212.90 $212.70 $212.40 $212.40 $212.00 $212.00 $212.00 $211.80 $211.80 $211.80 $211.70 $211.30 $211.30 $210.80 $210.30 $209.90 $209.60 $209.20 $209.20 $209.10 $208.30 $208.10 $207.70 $207.50 $207.30 $207.00 $206.70 $206.10 $205.80 $205.80 $205.60 $205.40 $205.40 $205.30 $205.10 $205.00 $205.00 $204.60 $203.60 $203.40 $203.40 $203.40 $203.30 $202.50 $202.40 $202.30 $202.00 $202.00 $202.00 $201.60 $201.60 $201.60 $200.80 $200.70 $200.50 $200.30 '",
      "\nDuring handling of the above exception, another exception occurred:\n",
      "\u001b[0;31mValueError\u001b[0m                                Traceback (most recent call last)",
      "File \u001b[0;32m~/Projects/jupy/venv/lib/python3.10/site-packages/pandas/core/nanops.py:1634\u001b[0m, in \u001b[0;36m_ensure_numeric\u001b[0;34m(x)\u001b[0m\n\u001b[1;32m   1633\u001b[0m \u001b[38;5;28;01mtry\u001b[39;00m:\n\u001b[0;32m-> 1634\u001b[0m     x \u001b[38;5;241m=\u001b[39m \u001b[38;5;28;43mcomplex\u001b[39;49m\u001b[43m(\u001b[49m\u001b[43mx\u001b[49m\u001b[43m)\u001b[49m\n\u001b[1;32m   1635\u001b[0m \u001b[38;5;28;01mexcept\u001b[39;00m \u001b[38;5;167;01mValueError\u001b[39;00m \u001b[38;5;28;01mas\u001b[39;00m err:\n\u001b[1;32m   1636\u001b[0m     \u001b[38;5;66;03m# e.g. \"foo\"\u001b[39;00m\n",
      "\u001b[0;31mValueError\u001b[0m: complex() arg is a malformed string",
      "\nThe above exception was the direct cause of the following exception:\n",
      "\u001b[0;31mTypeError\u001b[0m                                 Traceback (most recent call last)",
      "Cell \u001b[0;32mIn [65], line 1\u001b[0m\n\u001b[0;32m----> 1\u001b[0m \u001b[38;5;28mprint\u001b[39m(\u001b[43mmovies\u001b[49m\u001b[43m[\u001b[49m\u001b[38;5;124;43m\"\u001b[39;49m\u001b[38;5;124;43mGross\u001b[39;49m\u001b[38;5;124;43m\"\u001b[39;49m\u001b[43m]\u001b[49m\u001b[38;5;241;43m.\u001b[39;49m\u001b[43mmean\u001b[49m\u001b[43m(\u001b[49m\u001b[43m)\u001b[49m)\n",
      "File \u001b[0;32m~/Projects/jupy/venv/lib/python3.10/site-packages/pandas/core/generic.py:11847\u001b[0m, in \u001b[0;36mNDFrame._add_numeric_operations.<locals>.mean\u001b[0;34m(self, axis, skipna, level, numeric_only, **kwargs)\u001b[0m\n\u001b[1;32m  11829\u001b[0m \u001b[38;5;129m@doc\u001b[39m(\n\u001b[1;32m  11830\u001b[0m     _num_doc,\n\u001b[1;32m  11831\u001b[0m     desc\u001b[38;5;241m=\u001b[39m\u001b[38;5;124m\"\u001b[39m\u001b[38;5;124mReturn the mean of the values over the requested axis.\u001b[39m\u001b[38;5;124m\"\u001b[39m,\n\u001b[0;32m   (...)\u001b[0m\n\u001b[1;32m  11845\u001b[0m     \u001b[38;5;241m*\u001b[39m\u001b[38;5;241m*\u001b[39mkwargs,\n\u001b[1;32m  11846\u001b[0m ):\n\u001b[0;32m> 11847\u001b[0m     \u001b[38;5;28;01mreturn\u001b[39;00m \u001b[43mNDFrame\u001b[49m\u001b[38;5;241;43m.\u001b[39;49m\u001b[43mmean\u001b[49m\u001b[43m(\u001b[49m\u001b[38;5;28;43mself\u001b[39;49m\u001b[43m,\u001b[49m\u001b[43m \u001b[49m\u001b[43maxis\u001b[49m\u001b[43m,\u001b[49m\u001b[43m \u001b[49m\u001b[43mskipna\u001b[49m\u001b[43m,\u001b[49m\u001b[43m \u001b[49m\u001b[43mlevel\u001b[49m\u001b[43m,\u001b[49m\u001b[43m \u001b[49m\u001b[43mnumeric_only\u001b[49m\u001b[43m,\u001b[49m\u001b[43m \u001b[49m\u001b[38;5;241;43m*\u001b[39;49m\u001b[38;5;241;43m*\u001b[39;49m\u001b[43mkwargs\u001b[49m\u001b[43m)\u001b[49m\n",
      "File \u001b[0;32m~/Projects/jupy/venv/lib/python3.10/site-packages/pandas/core/generic.py:11401\u001b[0m, in \u001b[0;36mNDFrame.mean\u001b[0;34m(self, axis, skipna, level, numeric_only, **kwargs)\u001b[0m\n\u001b[1;32m  11393\u001b[0m \u001b[38;5;28;01mdef\u001b[39;00m \u001b[38;5;21mmean\u001b[39m(\n\u001b[1;32m  11394\u001b[0m     \u001b[38;5;28mself\u001b[39m,\n\u001b[1;32m  11395\u001b[0m     axis: Axis \u001b[38;5;241m|\u001b[39m \u001b[38;5;28;01mNone\u001b[39;00m \u001b[38;5;241m|\u001b[39m lib\u001b[38;5;241m.\u001b[39mNoDefault \u001b[38;5;241m=\u001b[39m lib\u001b[38;5;241m.\u001b[39mno_default,\n\u001b[0;32m   (...)\u001b[0m\n\u001b[1;32m  11399\u001b[0m     \u001b[38;5;241m*\u001b[39m\u001b[38;5;241m*\u001b[39mkwargs,\n\u001b[1;32m  11400\u001b[0m ) \u001b[38;5;241m-\u001b[39m\u001b[38;5;241m>\u001b[39m Series \u001b[38;5;241m|\u001b[39m \u001b[38;5;28mfloat\u001b[39m:\n\u001b[0;32m> 11401\u001b[0m     \u001b[38;5;28;01mreturn\u001b[39;00m \u001b[38;5;28;43mself\u001b[39;49m\u001b[38;5;241;43m.\u001b[39;49m\u001b[43m_stat_function\u001b[49m\u001b[43m(\u001b[49m\n\u001b[1;32m  11402\u001b[0m \u001b[43m        \u001b[49m\u001b[38;5;124;43m\"\u001b[39;49m\u001b[38;5;124;43mmean\u001b[39;49m\u001b[38;5;124;43m\"\u001b[39;49m\u001b[43m,\u001b[49m\u001b[43m \u001b[49m\u001b[43mnanops\u001b[49m\u001b[38;5;241;43m.\u001b[39;49m\u001b[43mnanmean\u001b[49m\u001b[43m,\u001b[49m\u001b[43m \u001b[49m\u001b[43maxis\u001b[49m\u001b[43m,\u001b[49m\u001b[43m \u001b[49m\u001b[43mskipna\u001b[49m\u001b[43m,\u001b[49m\u001b[43m \u001b[49m\u001b[43mlevel\u001b[49m\u001b[43m,\u001b[49m\u001b[43m \u001b[49m\u001b[43mnumeric_only\u001b[49m\u001b[43m,\u001b[49m\u001b[43m \u001b[49m\u001b[38;5;241;43m*\u001b[39;49m\u001b[38;5;241;43m*\u001b[39;49m\u001b[43mkwargs\u001b[49m\n\u001b[1;32m  11403\u001b[0m \u001b[43m    \u001b[49m\u001b[43m)\u001b[49m\n",
      "File \u001b[0;32m~/Projects/jupy/venv/lib/python3.10/site-packages/pandas/core/generic.py:11353\u001b[0m, in \u001b[0;36mNDFrame._stat_function\u001b[0;34m(self, name, func, axis, skipna, level, numeric_only, **kwargs)\u001b[0m\n\u001b[1;32m  11343\u001b[0m     warnings\u001b[38;5;241m.\u001b[39mwarn(\n\u001b[1;32m  11344\u001b[0m         \u001b[38;5;124m\"\u001b[39m\u001b[38;5;124mUsing the level keyword in DataFrame and Series aggregations is \u001b[39m\u001b[38;5;124m\"\u001b[39m\n\u001b[1;32m  11345\u001b[0m         \u001b[38;5;124m\"\u001b[39m\u001b[38;5;124mdeprecated and will be removed in a future version. Use groupby \u001b[39m\u001b[38;5;124m\"\u001b[39m\n\u001b[0;32m   (...)\u001b[0m\n\u001b[1;32m  11348\u001b[0m         stacklevel\u001b[38;5;241m=\u001b[39mfind_stack_level(),\n\u001b[1;32m  11349\u001b[0m     )\n\u001b[1;32m  11350\u001b[0m     \u001b[38;5;28;01mreturn\u001b[39;00m \u001b[38;5;28mself\u001b[39m\u001b[38;5;241m.\u001b[39m_agg_by_level(\n\u001b[1;32m  11351\u001b[0m         name, axis\u001b[38;5;241m=\u001b[39maxis, level\u001b[38;5;241m=\u001b[39mlevel, skipna\u001b[38;5;241m=\u001b[39mskipna, numeric_only\u001b[38;5;241m=\u001b[39mnumeric_only\n\u001b[1;32m  11352\u001b[0m     )\n\u001b[0;32m> 11353\u001b[0m \u001b[38;5;28;01mreturn\u001b[39;00m \u001b[38;5;28;43mself\u001b[39;49m\u001b[38;5;241;43m.\u001b[39;49m\u001b[43m_reduce\u001b[49m\u001b[43m(\u001b[49m\n\u001b[1;32m  11354\u001b[0m \u001b[43m    \u001b[49m\u001b[43mfunc\u001b[49m\u001b[43m,\u001b[49m\u001b[43m \u001b[49m\u001b[43mname\u001b[49m\u001b[38;5;241;43m=\u001b[39;49m\u001b[43mname\u001b[49m\u001b[43m,\u001b[49m\u001b[43m \u001b[49m\u001b[43maxis\u001b[49m\u001b[38;5;241;43m=\u001b[39;49m\u001b[43maxis\u001b[49m\u001b[43m,\u001b[49m\u001b[43m \u001b[49m\u001b[43mskipna\u001b[49m\u001b[38;5;241;43m=\u001b[39;49m\u001b[43mskipna\u001b[49m\u001b[43m,\u001b[49m\u001b[43m \u001b[49m\u001b[43mnumeric_only\u001b[49m\u001b[38;5;241;43m=\u001b[39;49m\u001b[43mnumeric_only\u001b[49m\n\u001b[1;32m  11355\u001b[0m \u001b[43m\u001b[49m\u001b[43m)\u001b[49m\n",
      "File \u001b[0;32m~/Projects/jupy/venv/lib/python3.10/site-packages/pandas/core/series.py:4816\u001b[0m, in \u001b[0;36mSeries._reduce\u001b[0;34m(self, op, name, axis, skipna, numeric_only, filter_type, **kwds)\u001b[0m\n\u001b[1;32m   4812\u001b[0m     \u001b[38;5;28;01mraise\u001b[39;00m \u001b[38;5;167;01mNotImplementedError\u001b[39;00m(\n\u001b[1;32m   4813\u001b[0m         \u001b[38;5;124mf\u001b[39m\u001b[38;5;124m\"\u001b[39m\u001b[38;5;124mSeries.\u001b[39m\u001b[38;5;132;01m{\u001b[39;00mname\u001b[38;5;132;01m}\u001b[39;00m\u001b[38;5;124m does not implement \u001b[39m\u001b[38;5;132;01m{\u001b[39;00mkwd_name\u001b[38;5;132;01m}\u001b[39;00m\u001b[38;5;124m.\u001b[39m\u001b[38;5;124m\"\u001b[39m\n\u001b[1;32m   4814\u001b[0m     )\n\u001b[1;32m   4815\u001b[0m \u001b[38;5;28;01mwith\u001b[39;00m np\u001b[38;5;241m.\u001b[39merrstate(\u001b[38;5;28mall\u001b[39m\u001b[38;5;241m=\u001b[39m\u001b[38;5;124m\"\u001b[39m\u001b[38;5;124mignore\u001b[39m\u001b[38;5;124m\"\u001b[39m):\n\u001b[0;32m-> 4816\u001b[0m     \u001b[38;5;28;01mreturn\u001b[39;00m \u001b[43mop\u001b[49m\u001b[43m(\u001b[49m\u001b[43mdelegate\u001b[49m\u001b[43m,\u001b[49m\u001b[43m \u001b[49m\u001b[43mskipna\u001b[49m\u001b[38;5;241;43m=\u001b[39;49m\u001b[43mskipna\u001b[49m\u001b[43m,\u001b[49m\u001b[43m \u001b[49m\u001b[38;5;241;43m*\u001b[39;49m\u001b[38;5;241;43m*\u001b[39;49m\u001b[43mkwds\u001b[49m\u001b[43m)\u001b[49m\n",
      "File \u001b[0;32m~/Projects/jupy/venv/lib/python3.10/site-packages/pandas/core/nanops.py:93\u001b[0m, in \u001b[0;36mdisallow.__call__.<locals>._f\u001b[0;34m(*args, **kwargs)\u001b[0m\n\u001b[1;32m     91\u001b[0m \u001b[38;5;28;01mtry\u001b[39;00m:\n\u001b[1;32m     92\u001b[0m     \u001b[38;5;28;01mwith\u001b[39;00m np\u001b[38;5;241m.\u001b[39merrstate(invalid\u001b[38;5;241m=\u001b[39m\u001b[38;5;124m\"\u001b[39m\u001b[38;5;124mignore\u001b[39m\u001b[38;5;124m\"\u001b[39m):\n\u001b[0;32m---> 93\u001b[0m         \u001b[38;5;28;01mreturn\u001b[39;00m \u001b[43mf\u001b[49m\u001b[43m(\u001b[49m\u001b[38;5;241;43m*\u001b[39;49m\u001b[43margs\u001b[49m\u001b[43m,\u001b[49m\u001b[43m \u001b[49m\u001b[38;5;241;43m*\u001b[39;49m\u001b[38;5;241;43m*\u001b[39;49m\u001b[43mkwargs\u001b[49m\u001b[43m)\u001b[49m\n\u001b[1;32m     94\u001b[0m \u001b[38;5;28;01mexcept\u001b[39;00m \u001b[38;5;167;01mValueError\u001b[39;00m \u001b[38;5;28;01mas\u001b[39;00m e:\n\u001b[1;32m     95\u001b[0m     \u001b[38;5;66;03m# we want to transform an object array\u001b[39;00m\n\u001b[1;32m     96\u001b[0m     \u001b[38;5;66;03m# ValueError message to the more typical TypeError\u001b[39;00m\n\u001b[1;32m     97\u001b[0m     \u001b[38;5;66;03m# e.g. this is normally a disallowed function on\u001b[39;00m\n\u001b[1;32m     98\u001b[0m     \u001b[38;5;66;03m# object arrays that contain strings\u001b[39;00m\n\u001b[1;32m     99\u001b[0m     \u001b[38;5;28;01mif\u001b[39;00m is_object_dtype(args[\u001b[38;5;241m0\u001b[39m]):\n",
      "File \u001b[0;32m~/Projects/jupy/venv/lib/python3.10/site-packages/pandas/core/nanops.py:155\u001b[0m, in \u001b[0;36mbottleneck_switch.__call__.<locals>.f\u001b[0;34m(values, axis, skipna, **kwds)\u001b[0m\n\u001b[1;32m    153\u001b[0m         result \u001b[38;5;241m=\u001b[39m alt(values, axis\u001b[38;5;241m=\u001b[39maxis, skipna\u001b[38;5;241m=\u001b[39mskipna, \u001b[38;5;241m*\u001b[39m\u001b[38;5;241m*\u001b[39mkwds)\n\u001b[1;32m    154\u001b[0m \u001b[38;5;28;01melse\u001b[39;00m:\n\u001b[0;32m--> 155\u001b[0m     result \u001b[38;5;241m=\u001b[39m \u001b[43malt\u001b[49m\u001b[43m(\u001b[49m\u001b[43mvalues\u001b[49m\u001b[43m,\u001b[49m\u001b[43m \u001b[49m\u001b[43maxis\u001b[49m\u001b[38;5;241;43m=\u001b[39;49m\u001b[43maxis\u001b[49m\u001b[43m,\u001b[49m\u001b[43m \u001b[49m\u001b[43mskipna\u001b[49m\u001b[38;5;241;43m=\u001b[39;49m\u001b[43mskipna\u001b[49m\u001b[43m,\u001b[49m\u001b[43m \u001b[49m\u001b[38;5;241;43m*\u001b[39;49m\u001b[38;5;241;43m*\u001b[39;49m\u001b[43mkwds\u001b[49m\u001b[43m)\u001b[49m\n\u001b[1;32m    157\u001b[0m \u001b[38;5;28;01mreturn\u001b[39;00m result\n",
      "File \u001b[0;32m~/Projects/jupy/venv/lib/python3.10/site-packages/pandas/core/nanops.py:418\u001b[0m, in \u001b[0;36m_datetimelike_compat.<locals>.new_func\u001b[0;34m(values, axis, skipna, mask, **kwargs)\u001b[0m\n\u001b[1;32m    415\u001b[0m \u001b[38;5;28;01mif\u001b[39;00m datetimelike \u001b[38;5;129;01mand\u001b[39;00m mask \u001b[38;5;129;01mis\u001b[39;00m \u001b[38;5;28;01mNone\u001b[39;00m:\n\u001b[1;32m    416\u001b[0m     mask \u001b[38;5;241m=\u001b[39m isna(values)\n\u001b[0;32m--> 418\u001b[0m result \u001b[38;5;241m=\u001b[39m \u001b[43mfunc\u001b[49m\u001b[43m(\u001b[49m\u001b[43mvalues\u001b[49m\u001b[43m,\u001b[49m\u001b[43m \u001b[49m\u001b[43maxis\u001b[49m\u001b[38;5;241;43m=\u001b[39;49m\u001b[43maxis\u001b[49m\u001b[43m,\u001b[49m\u001b[43m \u001b[49m\u001b[43mskipna\u001b[49m\u001b[38;5;241;43m=\u001b[39;49m\u001b[43mskipna\u001b[49m\u001b[43m,\u001b[49m\u001b[43m \u001b[49m\u001b[43mmask\u001b[49m\u001b[38;5;241;43m=\u001b[39;49m\u001b[43mmask\u001b[49m\u001b[43m,\u001b[49m\u001b[43m \u001b[49m\u001b[38;5;241;43m*\u001b[39;49m\u001b[38;5;241;43m*\u001b[39;49m\u001b[43mkwargs\u001b[49m\u001b[43m)\u001b[49m\n\u001b[1;32m    420\u001b[0m \u001b[38;5;28;01mif\u001b[39;00m datetimelike:\n\u001b[1;32m    421\u001b[0m     result \u001b[38;5;241m=\u001b[39m _wrap_results(result, orig_values\u001b[38;5;241m.\u001b[39mdtype, fill_value\u001b[38;5;241m=\u001b[39miNaT)\n",
      "File \u001b[0;32m~/Projects/jupy/venv/lib/python3.10/site-packages/pandas/core/nanops.py:706\u001b[0m, in \u001b[0;36mnanmean\u001b[0;34m(values, axis, skipna, mask)\u001b[0m\n\u001b[1;32m    703\u001b[0m     dtype_count \u001b[38;5;241m=\u001b[39m dtype\n\u001b[1;32m    705\u001b[0m count \u001b[38;5;241m=\u001b[39m _get_counts(values\u001b[38;5;241m.\u001b[39mshape, mask, axis, dtype\u001b[38;5;241m=\u001b[39mdtype_count)\n\u001b[0;32m--> 706\u001b[0m the_sum \u001b[38;5;241m=\u001b[39m \u001b[43m_ensure_numeric\u001b[49m\u001b[43m(\u001b[49m\u001b[43mvalues\u001b[49m\u001b[38;5;241;43m.\u001b[39;49m\u001b[43msum\u001b[49m\u001b[43m(\u001b[49m\u001b[43maxis\u001b[49m\u001b[43m,\u001b[49m\u001b[43m \u001b[49m\u001b[43mdtype\u001b[49m\u001b[38;5;241;43m=\u001b[39;49m\u001b[43mdtype_sum\u001b[49m\u001b[43m)\u001b[49m\u001b[43m)\u001b[49m\n\u001b[1;32m    708\u001b[0m \u001b[38;5;28;01mif\u001b[39;00m axis \u001b[38;5;129;01mis\u001b[39;00m \u001b[38;5;129;01mnot\u001b[39;00m \u001b[38;5;28;01mNone\u001b[39;00m \u001b[38;5;129;01mand\u001b[39;00m \u001b[38;5;28mgetattr\u001b[39m(the_sum, \u001b[38;5;124m\"\u001b[39m\u001b[38;5;124mndim\u001b[39m\u001b[38;5;124m\"\u001b[39m, \u001b[38;5;28;01mFalse\u001b[39;00m):\n\u001b[1;32m    709\u001b[0m     count \u001b[38;5;241m=\u001b[39m cast(np\u001b[38;5;241m.\u001b[39mndarray, count)\n",
      "File \u001b[0;32m~/Projects/jupy/venv/lib/python3.10/site-packages/pandas/core/nanops.py:1637\u001b[0m, in \u001b[0;36m_ensure_numeric\u001b[0;34m(x)\u001b[0m\n\u001b[1;32m   1634\u001b[0m             x \u001b[38;5;241m=\u001b[39m \u001b[38;5;28mcomplex\u001b[39m(x)\n\u001b[1;32m   1635\u001b[0m         \u001b[38;5;28;01mexcept\u001b[39;00m \u001b[38;5;167;01mValueError\u001b[39;00m \u001b[38;5;28;01mas\u001b[39;00m err:\n\u001b[1;32m   1636\u001b[0m             \u001b[38;5;66;03m# e.g. \"foo\"\u001b[39;00m\n\u001b[0;32m-> 1637\u001b[0m             \u001b[38;5;28;01mraise\u001b[39;00m \u001b[38;5;167;01mTypeError\u001b[39;00m(\u001b[38;5;124mf\u001b[39m\u001b[38;5;124m\"\u001b[39m\u001b[38;5;124mCould not convert \u001b[39m\u001b[38;5;132;01m{\u001b[39;00mx\u001b[38;5;132;01m}\u001b[39;00m\u001b[38;5;124m to numeric\u001b[39m\u001b[38;5;124m\"\u001b[39m) \u001b[38;5;28;01mfrom\u001b[39;00m \u001b[38;5;21;01merr\u001b[39;00m\n\u001b[1;32m   1638\u001b[0m \u001b[38;5;28;01mreturn\u001b[39;00m x\n",
      "\u001b[0;31mTypeError\u001b[0m: Could not convert $2,796.30 $2,789.70 $2,187.50 $2,068.20 $2,048.40 $1,671.70 $1,518.80 $1,516.00 $1,405.40 $1,346.90 $1,341.70 $1,332.50 $1,309.50 $1,276.50 $1,263.50 $1,242.80 $1,236.00 $1,214.80 $1,159.40 $1,153.30 $1,148.00 $1,128.30 $1,123.80 $1,119.90 $1,108.60 $1,104.10 $1,084.90 $1,067.00 $1,066.20 $1,056.10 $1,045.70 $1,034.80 $1,029.50 $1,028.60 $1,027.00 $1,025.50 $1,023.80 $1,021.10 $1,004.90 $975.10 $970.80 $968.50 $966.60 $963.40 $962.10 $960.40 $958.40 $956.00 $940.30 $940.00 $934.50 $926.00 $919.80 $903.70 $897.10 $890.90 $886.70 $880.70 $880.20 $880.20 $879.20 $877.20 $875.50 $873.60 $871.50 $870.30 $865.00 $863.80 $857.60 $855.00 $854.00 $848.80 $836.30 $829.70 $828.30 $821.80 $821.70 $817.40 $814.00 $807.10 $799.00 $796.90 $794.90 $792.90 $791.10 $788.70 $786.60 $785.00 $783.80 $783.10 $775.40 $773.30 $769.70 $758.50 $758.20 $757.90 $755.40 $752.60 $747.90 $746.90 $746.80 $745.00 $744.20 $742.10 $735.10 $723.20 $714.30 $712.20 $710.60 $709.70 $709.70 $709.00 $700.40 $699.80 $698.50 $694.70 $694.40 $682.70 $677.90 $677.70 $677.50 $672.80 $668.00 $665.70 $660.90 $657.90 $657.80 $654.30 $653.80 $653.40 $649.40 $644.60 $643.30 $634.20 $633.00 $631.70 $630.20 $626.10 $624.40 $624.00 $623.90 $622.70 $621.50 $620.70 $619.00 $618.60 $611.90 $609.90 $609.00 $605.40 $603.90 $599.00 $591.80 $591.70 $589.40 $587.20 $586.80 $586.10 $585.30 $585.20 $582.90 $579.20 $577.40 $574.50 $571.00 $566.70 $563.70 $562.10 $555.00 $553.80 $553.70 $550.50 $549.40 $547.40 $546.40 $545.40 $544.30 $544.10 $543.90 $543.50 $543.10 $540.40 $540.00 $538.40 $533.30 $533.00 $532.70 $530.20 $529.30 $529.10 $528.60 $528.00 $527.10 $526.90 $524.00 $521.20 $520.90 $519.80 $519.80 $519.30 $516.60 $511.60 $505.70 $504.10 $500.10 $497.40 $497.40 $494.90 $494.50 $493.30 $493.30 $493.20 $490.70 $485.90 $484.60 $484.60 $484.40 $482.30 $481.80 $478.20 $476.70 $475.10 $475.00 $474.80 $474.20 $474.00 $471.20 $470.70 $469.20 $468.00 $467.50 $467.40 $463.50 $463.40 $463.40 $462.20 $460.60 $459.40 $457.70 $457.40 $456.80 $456.10 $450.70 $449.30 $449.20 $448.20 $446.10 $443.10 $442.80 $441.80 $441.80 $441.30 $441.30 $440.60 $435.00 $434.90 $433.70 $433.40 $433.00 $432.00 $429.60 $428.00 $427.50 $427.30 $426.60 $425.40 $425.00 $424.20 $419.70 $415.90 $415.70 $415.50 $415.30 $414.80 $414.40 $414.20 $413.10 $411.50 $411.00 $411.00 $410.90 $409.20 $408.60 $408.20 $407.70 $404.90 $403.40 $402.40 $401.10 $400.10 $397.90 $396.60 $396.20 $395.00 $393.60 $392.90 $392.00 $391.10 $390.50 $389.90 $389.70 $386.00 $385.70 $385.30 $384.30 $383.90 $383.50 $383.30 $381.50 $381.50 $381.10 $379.00 $378.90 $378.90 $378.10 $377.90 $376.10 $375.70 $375.50 $374.20 $374.10 $374.00 $373.60 $373.10 $373.00 $372.20 $371.90 $371.40 $370.60 $370.50 $369.90 $369.30 $368.90 $368.80 $368.70 $368.10 $367.30 $366.10 $365.60 $364.10 $363.90 $363.30 $363.20 $363.20 $362.70 $362.60 $362.20 $362.00 $361.80 $361.70 $361.30 $359.10 $359.00 $358.40 $358.40 $358.00 $356.80 $356.70 $356.30 $355.20 $354.80 $353.60 $353.60 $352.90 $352.80 $352.30 $352.20 $352.10 $351.80 $351.70 $351.70 $351.60 $351.30 $350.40 $349.80 $349.50 $349.50 $348.80 $348.30 $347.50 $347.50 $347.30 $347.20 $346.90 $346.10 $346.10 $345.10 $343.50 $342.70 $341.60 $341.40 $340.90 $340.50 $337.60 $336.60 $336.40 $336.00 $335.30 $335.10 $334.90 $334.90 $333.90 $333.10 $333.00 $332.20 $332.00 $331.30 $330.60 $330.40 $329.80 $329.40 $328.70 $328.20 $327.30 $326.60 $326.50 $325.30 $325.30 $325.20 $322.10 $321.90 $321.70 $321.70 $321.50 $320.70 $320.40 $320.30 $320.10 $319.70 $319.50 $317.40 $316.40 $315.20 $315.00 $314.40 $314.20 $313.50 $312.30 $312.20 $312.00 $312.00 $311.40 $311.30 $310.70 $310.00 $309.50 $309.50 $309.20 $307.20 $307.10 $306.90 $306.90 $306.80 $306.50 $305.90 $305.30 $304.90 $304.70 $304.70 $304.30 $303.10 $303.00 $302.90 $302.70 $302.50 $300.90 $300.50 $300.50 $300.40 $300.30 $300.20 $300.10 $300.00 $299.50 $299.30 $299.30 $297.70 $297.30 $297.10 $297.00 $296.70 $296.50 $296.30 $296.10 $295.20 $294.80 $294.50 $293.50 $292.80 $291.50 $291.40 $290.90 $289.30 $289.00 $288.90 $288.80 $288.50 $288.40 $288.30 $288.30 $287.90 $287.60 $287.60 $287.50 $286.80 $286.20 $286.10 $285.40 $285.20 $284.10 $282.60 $281.90 $278.50 $278.30 $278.00 $277.40 $277.30 $276.10 $275.70 $275.70 $275.30 $274.70 $274.70 $274.50 $274.30 $274.00 $273.60 $273.30 $273.10 $272.70 $271.40 $270.70 $270.20 $270.00 $270.00 $269.80 $268.40 $268.20 $268.00 $267.40 $267.00 $266.90 $266.70 $266.60 $266.50 $264.20 $264.10 $264.10 $263.90 $263.40 $262.80 $262.50 $261.90 $261.60 $261.30 $261.20 $260.70 $260.50 $260.10 $259.40 $259.20 $259.20 $258.00 $257.90 $257.00 $256.70 $256.30 $256.30 $255.50 $255.40 $255.00 $254.70 $254.20 $254.20 $254.10 $253.60 $252.90 $252.70 $252.30 $251.20 $251.20 $250.80 $250.60 $250.40 $250.30 $249.50 $249.30 $248.60 $248.10 $247.30 $247.00 $247.00 $246.90 $246.60 $246.20 $245.70 $245.70 $245.70 $245.60 $245.50 $245.40 $245.10 $245.10 $245.10 $244.90 $244.80 $244.50 $244.40 $243.80 $243.20 $243.00 $242.90 $242.80 $242.70 $242.70 $242.30 $242.00 $240.90 $240.90 $240.80 $240.00 $240.00 $239.60 $239.30 $238.50 $238.20 $237.70 $237.40 $237.20 $237.10 $236.40 $236.40 $236.00 $236.00 $235.90 $235.90 $235.70 $235.50 $235.00 $234.80 $234.80 $233.60 $233.10 $232.60 $232.30 $232.00 $231.60 $231.40 $231.40 $230.90 $230.70 $230.40 $229.90 $229.70 $229.20 $229.10 $228.70 $228.10 $227.90 $227.90 $227.80 $227.50 $227.30 $226.90 $226.90 $226.80 $226.50 $226.30 $225.90 $225.90 $225.90 $224.90 $224.80 $224.00 $223.70 $223.40 $223.20 $222.80 $222.70 $222.40 $222.20 $222.10 $221.60 $221.30 $220.90 $220.80 $220.70 $220.00 $219.90 $219.40 $219.40 $219.10 $219.10 $218.80 $218.60 $218.30 $217.80 $217.80 $217.10 $217.00 $216.80 $216.70 $216.60 $216.60 $216.50 $216.20 $215.90 $215.90 $215.90 $215.70 $215.40 $215.30 $215.30 $214.90 $214.70 $214.60 $214.10 $214.10 $214.10 $214.00 $214.00 $213.90 $213.70 $213.50 $213.20 $213.10 $212.90 $212.70 $212.40 $212.40 $212.00 $212.00 $212.00 $211.80 $211.80 $211.80 $211.70 $211.30 $211.30 $210.80 $210.30 $209.90 $209.60 $209.20 $209.20 $209.10 $208.30 $208.10 $207.70 $207.50 $207.30 $207.00 $206.70 $206.10 $205.80 $205.80 $205.60 $205.40 $205.40 $205.30 $205.10 $205.00 $205.00 $204.60 $203.60 $203.40 $203.40 $203.40 $203.30 $202.50 $202.40 $202.30 $202.00 $202.00 $202.00 $201.60 $201.60 $201.60 $200.80 $200.70 $200.50 $200.30  to numeric"
     ]
    }
   ],
   "source": [
    "print(movies[\"Gross\"].mean())"
   ]
  },
  {
   "cell_type": "code",
   "execution_count": 67,
   "id": "d069fbd7",
   "metadata": {},
   "outputs": [
    {
     "name": "stdout",
     "output_type": "stream",
     "text": [
      "Studio\n",
      "Artisan                     1\n",
      "Buena Vista               125\n",
      "CL                          1\n",
      "China Film Corporation      1\n",
      "Columbia                    5\n",
      "Name: Gross, dtype: int64\n"
     ]
    }
   ],
   "source": [
    "studios = movies.groupby(\"Studio\")\n",
    "print(studios[\"Gross\"].count().head())"
   ]
  },
  {
   "cell_type": "code",
   "execution_count": 68,
   "id": "876e5e8e",
   "metadata": {},
   "outputs": [
    {
     "name": "stdout",
     "output_type": "stream",
     "text": [
      "Studio\n",
      "Warner Brothers    132\n",
      "Buena Vista        125\n",
      "Fox                117\n",
      "Universal          109\n",
      "Sony                86\n",
      "Name: Gross, dtype: int64\n"
     ]
    }
   ],
   "source": [
    "print(studios[\"Gross\"].count().sort_values(ascending = False).head())"
   ]
  },
  {
   "cell_type": "code",
   "execution_count": 69,
   "id": "29058308",
   "metadata": {},
   "outputs": [
    {
     "name": "stdout",
     "output_type": "stream",
     "text": [
      "Studio\n",
      "Artisan                                                            $248.60 \n",
      "Buena Vista               $2,796.30 $2,068.20 $2,048.40 $1,518.80 $1,405...\n",
      "CL                                                                 $228.10 \n",
      "China Film Corporation                                             $699.80 \n",
      "Columbia                           $306.90 $295.20 $243.20 $215.90 $215.40 \n",
      "Name: Gross, dtype: object\n"
     ]
    }
   ],
   "source": [
    "print(studios[\"Gross\"].sum().head())"
   ]
  },
  {
   "cell_type": "code",
   "execution_count": null,
   "id": "9a96b8f6",
   "metadata": {},
   "outputs": [],
   "source": []
  }
 ],
 "metadata": {
  "kernelspec": {
   "display_name": "Python 3 (ipykernel)",
   "language": "python",
   "name": "python3"
  },
  "language_info": {
   "codemirror_mode": {
    "name": "ipython",
    "version": 3
   },
   "file_extension": ".py",
   "mimetype": "text/x-python",
   "name": "python",
   "nbconvert_exporter": "python",
   "pygments_lexer": "ipython3",
   "version": "3.10.6"
  }
 },
 "nbformat": 4,
 "nbformat_minor": 5
}
