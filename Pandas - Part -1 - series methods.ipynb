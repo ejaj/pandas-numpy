{
 "cells": [
  {
   "cell_type": "code",
   "execution_count": 1,
   "id": "678d267d",
   "metadata": {},
   "outputs": [
    {
     "name": "stdout",
     "output_type": "stream",
     "text": [
      "         Pokemon            Type\n",
      "0      Bulbasaur  Grass / Poison\n",
      "1        Ivysaur  Grass / Poison\n",
      "2       Venusaur  Grass / Poison\n",
      "3     Charmander            Fire\n",
      "4     Charmeleon            Fire\n",
      "..           ...             ...\n",
      "804    Stakataka    Rock / Steel\n",
      "805  Blacephalon    Fire / Ghost\n",
      "806      Zeraora        Electric\n",
      "807       Meltan           Steel\n",
      "808     Melmetal           Steel\n",
      "\n",
      "[809 rows x 2 columns]\n"
     ]
    }
   ],
   "source": [
    "import pandas as pd\n",
    "pokemon = pd.read_csv(\"pokemon.csv\")\n",
    "print(pokemon)"
   ]
  },
  {
   "cell_type": "code",
   "execution_count": 2,
   "id": "c4580889",
   "metadata": {},
   "outputs": [
    {
     "name": "stdout",
     "output_type": "stream",
     "text": [
      "                       Type\n",
      "Pokemon                    \n",
      "Bulbasaur    Grass / Poison\n",
      "Ivysaur      Grass / Poison\n",
      "Venusaur     Grass / Poison\n",
      "Charmander             Fire\n",
      "Charmeleon             Fire\n",
      "...                     ...\n",
      "Stakataka      Rock / Steel\n",
      "Blacephalon    Fire / Ghost\n",
      "Zeraora            Electric\n",
      "Meltan                Steel\n",
      "Melmetal              Steel\n",
      "\n",
      "[809 rows x 1 columns]\n"
     ]
    }
   ],
   "source": [
    "pokemon_index = pd.read_csv(\"pokemon.csv\", index_col = \"Pokemon\")\n",
    "print(pokemon_index)"
   ]
  },
  {
   "cell_type": "code",
   "execution_count": 3,
   "id": "3d7525e2",
   "metadata": {},
   "outputs": [
    {
     "name": "stdout",
     "output_type": "stream",
     "text": [
      "Pokemon\n",
      "Bulbasaur      Grass / Poison\n",
      "Ivysaur        Grass / Poison\n",
      "Venusaur       Grass / Poison\n",
      "Charmander               Fire\n",
      "Charmeleon               Fire\n",
      "                    ...      \n",
      "Stakataka        Rock / Steel\n",
      "Blacephalon      Fire / Ghost\n",
      "Zeraora              Electric\n",
      "Meltan                  Steel\n",
      "Melmetal                Steel\n",
      "Name: Type, Length: 809, dtype: object\n"
     ]
    },
    {
     "name": "stderr",
     "output_type": "stream",
     "text": [
      "/tmp/ipykernel_16947/1622626660.py:1: FutureWarning: The squeeze argument has been deprecated and will be removed in a future version. Append .squeeze(\"columns\") to the call to squeeze.\n",
      "\n",
      "\n",
      "  pokemon_squeeze = pd.read_csv(\"pokemon.csv\", index_col = \"Pokemon\", squeeze = True)\n"
     ]
    }
   ],
   "source": [
    "pokemon_squeeze = pd.read_csv(\"pokemon.csv\", index_col = \"Pokemon\", squeeze = True)\n",
    "print(pokemon_squeeze)"
   ]
  },
  {
   "cell_type": "code",
   "execution_count": 4,
   "id": "3a09dc87",
   "metadata": {},
   "outputs": [
    {
     "name": "stdout",
     "output_type": "stream",
     "text": [
      "         Date  Close\n",
      "0  2004-08-19  49.98\n",
      "1  2004-08-20  53.95\n",
      "2  2004-08-23  54.50\n",
      "3  2004-08-24  52.24\n",
      "4  2004-08-25  52.80\n"
     ]
    }
   ],
   "source": [
    "google_stock = pd.read_csv(\"google_stocks.csv\").head()\n",
    "print(google_stock)"
   ]
  },
  {
   "cell_type": "code",
   "execution_count": 5,
   "id": "a9f67b8d",
   "metadata": {},
   "outputs": [
    {
     "name": "stdout",
     "output_type": "stream",
     "text": [
      "        Date  Close\n",
      "0 2004-08-19  49.98\n",
      "1 2004-08-20  53.95\n",
      "2 2004-08-23  54.50\n",
      "3 2004-08-24  52.24\n",
      "4 2004-08-25  52.80\n"
     ]
    }
   ],
   "source": [
    "google_stock_parse = pd.read_csv(\"google_stocks.csv\", parse_dates = [\"Date\"]).head()\n",
    "print(google_stock_parse)"
   ]
  },
  {
   "cell_type": "code",
   "execution_count": 6,
   "id": "52cb8efb",
   "metadata": {},
   "outputs": [
    {
     "name": "stdout",
     "output_type": "stream",
     "text": [
      "Date\n",
      "2004-08-19    49.98\n",
      "2004-08-20    53.95\n",
      "2004-08-23    54.50\n",
      "2004-08-24    52.24\n",
      "2004-08-25    52.80\n",
      "Name: Close, dtype: float64\n"
     ]
    },
    {
     "name": "stderr",
     "output_type": "stream",
     "text": [
      "/tmp/ipykernel_16947/1465893938.py:1: FutureWarning: The squeeze argument has been deprecated and will be removed in a future version. Append .squeeze(\"columns\") to the call to squeeze.\n",
      "\n",
      "\n",
      "  google_stock_parse_squeeze = pd.read_csv(\n"
     ]
    }
   ],
   "source": [
    "google_stock_parse_squeeze = pd.read_csv(\n",
    "            \"google_stocks.csv\",\n",
    "            parse_dates = [\"Date\"],\n",
    "            index_col = \"Date\",\n",
    "            squeeze = True\n",
    "        ).head()\n",
    "print(google_stock_parse_squeeze)"
   ]
  },
  {
   "cell_type": "code",
   "execution_count": 7,
   "id": "75801aab",
   "metadata": {},
   "outputs": [
    {
     "name": "stdout",
     "output_type": "stream",
     "text": [
      "                         Battle  Start Date     State\n",
      "227         Siege of Fort Henry   9/11/1782  Virginia\n",
      "228  Grand Assault on Gibraltar   9/13/1782       NaN\n",
      "229   Action of 18 October 1782  10/18/1782       NaN\n",
      "230   Action of 6 December 1782   12/6/1782       NaN\n",
      "231   Action of 22 January 1783   1/22/1783  Virginia\n"
     ]
    }
   ],
   "source": [
    "revolutionary = pd.read_csv(\"revolutionary_war.csv\").tail()\n",
    "print(revolutionary)\n"
   ]
  },
  {
   "cell_type": "code",
   "execution_count": 8,
   "id": "adbf911b",
   "metadata": {},
   "outputs": [
    {
     "name": "stdout",
     "output_type": "stream",
     "text": [
      "                                Battle     State\n",
      "Start Date                                      \n",
      "1782-09-11         Siege of Fort Henry  Virginia\n",
      "1782-09-13  Grand Assault on Gibraltar       NaN\n",
      "1782-10-18   Action of 18 October 1782       NaN\n",
      "1782-12-06   Action of 6 December 1782       NaN\n",
      "1783-01-22   Action of 22 January 1783  Virginia\n"
     ]
    }
   ],
   "source": [
    "revolutionary_parse = pd.read_csv( \"revolutionary_war.csv\", index_col = \"Start Date\", parse_dates = [\"Start Date\"],).tail()\n",
    "print(revolutionary_parse)"
   ]
  },
  {
   "cell_type": "code",
   "execution_count": 9,
   "id": "1eb1bc08",
   "metadata": {},
   "outputs": [
    {
     "name": "stdout",
     "output_type": "stream",
     "text": [
      "Start Date\n",
      "1782-09-11    Virginia\n",
      "1782-09-13         NaN\n",
      "1782-10-18         NaN\n",
      "1782-12-06         NaN\n",
      "1783-01-22    Virginia\n",
      "Name: State, dtype: object\n"
     ]
    },
    {
     "name": "stderr",
     "output_type": "stream",
     "text": [
      "/tmp/ipykernel_16947/2330768493.py:1: FutureWarning: The squeeze argument has been deprecated and will be removed in a future version. Append .squeeze(\"columns\") to the call to squeeze.\n",
      "\n",
      "\n",
      "  usecols = pd.read_csv(\"revolutionary_war.csv\", index_col = \"Start Date\", parse_dates = [\"Start Date\"], usecols = [\"State\", \"Start Date\"], squeeze = True).tail()\n"
     ]
    }
   ],
   "source": [
    "usecols = pd.read_csv(\"revolutionary_war.csv\", index_col = \"Start Date\", parse_dates = [\"Start Date\"], usecols = [\"State\", \"Start Date\"], squeeze = True).tail()\n",
    "print(usecols)"
   ]
  },
  {
   "cell_type": "code",
   "execution_count": 11,
   "id": "8a992499",
   "metadata": {},
   "outputs": [
    {
     "name": "stdout",
     "output_type": "stream",
     "text": [
      "Date\n",
      "2004-09-03      49.82\n",
      "2004-09-01      49.94\n",
      "2004-08-19      49.98\n",
      "2004-09-02      50.57\n",
      "2004-09-07      50.60\n",
      "               ...   \n",
      "2019-04-23    1264.55\n",
      "2019-10-25    1265.13\n",
      "2018-07-26    1268.33\n",
      "2019-04-26    1272.18\n",
      "2019-04-29    1287.58\n",
      "Name: Close, Length: 3824, dtype: float64\n"
     ]
    },
    {
     "name": "stderr",
     "output_type": "stream",
     "text": [
      "/tmp/ipykernel_16947/4160988705.py:1: FutureWarning: The squeeze argument has been deprecated and will be removed in a future version. Append .squeeze(\"columns\") to the call to squeeze.\n",
      "\n",
      "\n",
      "  google = pd.read_csv(\n"
     ]
    }
   ],
   "source": [
    "google = pd.read_csv(\n",
    " \"google_stocks.csv\",\n",
    " parse_dates = [\"Date\"],\n",
    " index_col = \"Date\",\n",
    " squeeze = True\n",
    " )\n",
    "print(google.sort_values())"
   ]
  },
  {
   "cell_type": "code",
   "execution_count": 12,
   "id": "4d22d797",
   "metadata": {},
   "outputs": [
    {
     "name": "stdout",
     "output_type": "stream",
     "text": [
      "Date\n",
      "2019-04-29    1287.58\n",
      "2019-04-26    1272.18\n",
      "2018-07-26    1268.33\n",
      "2019-10-25    1265.13\n",
      "2019-04-23    1264.55\n",
      "Name: Close, dtype: float64\n"
     ]
    }
   ],
   "source": [
    "print( google.sort_values(ascending = False).head())"
   ]
  },
  {
   "cell_type": "code",
   "execution_count": 13,
   "id": "499db4b2",
   "metadata": {},
   "outputs": [
    {
     "name": "stdout",
     "output_type": "stream",
     "text": [
      "Start Date\n",
      "1781-09-06    Connecticut\n",
      "1779-07-05    Connecticut\n",
      "1777-04-27    Connecticut\n",
      "1777-09-03       Delaware\n",
      "1777-05-17        Florida\n",
      "                 ...     \n",
      "1782-08-08            NaN\n",
      "1782-08-25            NaN\n",
      "1782-09-13            NaN\n",
      "1782-10-18            NaN\n",
      "1782-12-06            NaN\n",
      "Name: State, Length: 232, dtype: object\n"
     ]
    },
    {
     "name": "stderr",
     "output_type": "stream",
     "text": [
      "/tmp/ipykernel_16947/3762869826.py:1: FutureWarning: The squeeze argument has been deprecated and will be removed in a future version. Append .squeeze(\"columns\") to the call to squeeze.\n",
      "\n",
      "\n",
      "  battles = pd.read_csv(\n"
     ]
    }
   ],
   "source": [
    "battles = pd.read_csv(\n",
    " \"revolutionary_war.csv\",\n",
    " index_col = \"Start Date\",\n",
    " parse_dates = [\"Start Date\"],\n",
    " usecols = [\"State\", \"Start Date\"],\n",
    " squeeze = True\n",
    " )\n",
    "print(battles.sort_values())"
   ]
  },
  {
   "cell_type": "code",
   "execution_count": 14,
   "id": "1d91f44d",
   "metadata": {},
   "outputs": [
    {
     "data": {
      "text/plain": [
       "Start Date\n",
       "1775-09-17         NaN\n",
       "1775-12-31         NaN\n",
       "1776-03-03         NaN\n",
       "1776-03-25         NaN\n",
       "1776-05-18         NaN\n",
       "                ...   \n",
       "1781-07-06    Virginia\n",
       "1781-07-01    Virginia\n",
       "1781-06-26    Virginia\n",
       "1781-04-25    Virginia\n",
       "1783-01-22    Virginia\n",
       "Name: State, Length: 232, dtype: object"
      ]
     },
     "execution_count": 14,
     "metadata": {},
     "output_type": "execute_result"
    }
   ],
   "source": [
    "battles.sort_values(na_position = \"first\")"
   ]
  },
  {
   "cell_type": "code",
   "execution_count": 15,
   "id": "06563163",
   "metadata": {},
   "outputs": [
    {
     "name": "stdout",
     "output_type": "stream",
     "text": [
      "Start Date\n",
      "1781-09-06    Connecticut\n",
      "1779-07-05    Connecticut\n",
      "1777-04-27    Connecticut\n",
      "1777-09-03       Delaware\n",
      "1777-05-17        Florida\n",
      "                 ...     \n",
      "1781-07-06       Virginia\n",
      "1781-07-01       Virginia\n",
      "1781-06-26       Virginia\n",
      "1781-04-25       Virginia\n",
      "1783-01-22       Virginia\n",
      "Name: State, Length: 162, dtype: object\n"
     ]
    }
   ],
   "source": [
    "print(battles.dropna().sort_values())"
   ]
  },
  {
   "cell_type": "code",
   "execution_count": 16,
   "id": "6ab4542a",
   "metadata": {},
   "outputs": [
    {
     "name": "stdout",
     "output_type": "stream",
     "text": [
      "         Pokemon            Type\n",
      "0      Bulbasaur  Grass / Poison\n",
      "1        Ivysaur  Grass / Poison\n",
      "2       Venusaur  Grass / Poison\n",
      "3     Charmander            Fire\n",
      "4     Charmeleon            Fire\n",
      "..           ...             ...\n",
      "804    Stakataka    Rock / Steel\n",
      "805  Blacephalon    Fire / Ghost\n",
      "806      Zeraora        Electric\n",
      "807       Meltan           Steel\n",
      "808     Melmetal           Steel\n",
      "\n",
      "[809 rows x 2 columns]\n"
     ]
    }
   ],
   "source": [
    "print(pokemon.sort_index())"
   ]
  },
  {
   "cell_type": "code",
   "execution_count": 18,
   "id": "5e89158b",
   "metadata": {},
   "outputs": [
    {
     "name": "stdout",
     "output_type": "stream",
     "text": [
      "         Pokemon            Type\n",
      "808     Melmetal           Steel\n",
      "807       Meltan           Steel\n",
      "806      Zeraora        Electric\n",
      "805  Blacephalon    Fire / Ghost\n",
      "804    Stakataka    Rock / Steel\n",
      "..           ...             ...\n",
      "4     Charmeleon            Fire\n",
      "3     Charmander            Fire\n",
      "2       Venusaur  Grass / Poison\n",
      "1        Ivysaur  Grass / Poison\n",
      "0      Bulbasaur  Grass / Poison\n",
      "\n",
      "[809 rows x 2 columns]\n"
     ]
    }
   ],
   "source": [
    "print(pokemon.sort_index(ascending = False))"
   ]
  },
  {
   "cell_type": "code",
   "execution_count": 19,
   "id": "e08f6764",
   "metadata": {},
   "outputs": [
    {
     "name": "stdout",
     "output_type": "stream",
     "text": [
      "Start Date\n",
      "1774-09-01    Massachusetts\n",
      "1774-12-14    New Hampshire\n",
      "1775-04-19    Massachusetts\n",
      "1775-04-19    Massachusetts\n",
      "1775-04-20         Virginia\n",
      "                  ...      \n",
      "1783-01-22         Virginia\n",
      "NaT              New Jersey\n",
      "NaT                Virginia\n",
      "NaT                     NaN\n",
      "NaT                     NaN\n",
      "Name: State, Length: 232, dtype: object\n"
     ]
    }
   ],
   "source": [
    "print(battles.sort_index())"
   ]
  },
  {
   "cell_type": "code",
   "execution_count": 21,
   "id": "94282082",
   "metadata": {},
   "outputs": [
    {
     "name": "stdout",
     "output_type": "stream",
     "text": [
      "Date\n",
      "2019-04-29    1287.58\n",
      "2019-04-26    1272.18\n",
      "2018-07-26    1268.33\n",
      "2019-10-25    1265.13\n",
      "2019-04-23    1264.55\n",
      "Name: Close, dtype: float64\n"
     ]
    }
   ],
   "source": [
    "# print(google.nlargest(n = 5))\n",
    "print(google.nlargest())"
   ]
  },
  {
   "cell_type": "code",
   "execution_count": 22,
   "id": "79172081",
   "metadata": {},
   "outputs": [
    {
     "name": "stdout",
     "output_type": "stream",
     "text": [
      "Date\n",
      "2004-09-03    49.82\n",
      "2004-09-01    49.94\n",
      "2004-08-19    49.98\n",
      "2004-09-02    50.57\n",
      "2004-09-07    50.60\n",
      "Name: Close, dtype: float64\n"
     ]
    }
   ],
   "source": [
    "# print(google.nsmallest(n = 5))\n",
    "print(google.nsmallest())"
   ]
  },
  {
   "cell_type": "code",
   "execution_count": 24,
   "id": "93d93b72",
   "metadata": {},
   "outputs": [
    {
     "name": "stdout",
     "output_type": "stream",
     "text": [
      "Pokemon    Type           \n",
      "Abomasnow  Grass / Ice        1\n",
      "Purugly    Normal             1\n",
      "Porygon-Z  Normal             1\n",
      "Porygon2   Normal             1\n",
      "Primarina  Water / Fairy      1\n",
      "                             ..\n",
      "Graveler   Rock / Ground      1\n",
      "Greninja   Water / Dark       1\n",
      "Grimer     Poison             1\n",
      "Grotle     Grass              1\n",
      "Zygarde    Dragon / Ground    1\n",
      "Length: 809, dtype: int64\n"
     ]
    }
   ],
   "source": [
    "print(pokemon.value_counts())"
   ]
  },
  {
   "cell_type": "code",
   "execution_count": 25,
   "id": "8d827154",
   "metadata": {},
   "outputs": [
    {
     "data": {
      "text/plain": [
       "809"
      ]
     },
     "execution_count": 25,
     "metadata": {},
     "output_type": "execute_result"
    }
   ],
   "source": [
    "len(pokemon.value_counts())"
   ]
  },
  {
   "cell_type": "code",
   "execution_count": 26,
   "id": "d629a479",
   "metadata": {},
   "outputs": [
    {
     "data": {
      "text/plain": [
       "Pokemon    809\n",
       "Type       159\n",
       "dtype: int64"
      ]
     },
     "execution_count": 26,
     "metadata": {},
     "output_type": "execute_result"
    }
   ],
   "source": [
    " pokemon.nunique()"
   ]
  },
  {
   "cell_type": "code",
   "execution_count": 27,
   "id": "2d3021ef",
   "metadata": {},
   "outputs": [
    {
     "data": {
      "text/plain": [
       "Pokemon    Type         \n",
       "Abomasnow  Grass / Ice      0.001236\n",
       "Purugly    Normal           0.001236\n",
       "Porygon-Z  Normal           0.001236\n",
       "Porygon2   Normal           0.001236\n",
       "Primarina  Water / Fairy    0.001236\n",
       "dtype: float64"
      ]
     },
     "execution_count": 27,
     "metadata": {},
     "output_type": "execute_result"
    }
   ],
   "source": [
    "pokemon.value_counts(normalize = True).head()"
   ]
  },
  {
   "cell_type": "code",
   "execution_count": 28,
   "id": "a3ee9c17",
   "metadata": {},
   "outputs": [
    {
     "data": {
      "text/plain": [
       "Pokemon    Type         \n",
       "Abomasnow  Grass / Ice      0.123609\n",
       "Purugly    Normal           0.123609\n",
       "Porygon-Z  Normal           0.123609\n",
       "Porygon2   Normal           0.123609\n",
       "Primarina  Water / Fairy    0.123609\n",
       "dtype: float64"
      ]
     },
     "execution_count": 28,
     "metadata": {},
     "output_type": "execute_result"
    }
   ],
   "source": [
    "pokemon.value_counts(normalize = True).head() * 100"
   ]
  },
  {
   "cell_type": "code",
   "execution_count": 29,
   "id": "299dd6e7",
   "metadata": {},
   "outputs": [
    {
     "data": {
      "text/plain": [
       "Pokemon    Type           \n",
       "Abomasnow  Grass / Ice        0.12\n",
       "Purugly    Normal             0.12\n",
       "Porygon-Z  Normal             0.12\n",
       "Porygon2   Normal             0.12\n",
       "Primarina  Water / Fairy      0.12\n",
       "                              ... \n",
       "Graveler   Rock / Ground      0.12\n",
       "Greninja   Water / Dark       0.12\n",
       "Grimer     Poison             0.12\n",
       "Grotle     Grass              0.12\n",
       "Zygarde    Dragon / Ground    0.12\n",
       "Length: 809, dtype: float64"
      ]
     },
     "execution_count": 29,
     "metadata": {},
     "output_type": "execute_result"
    }
   ],
   "source": [
    "(pokemon.value_counts(normalize = True) * 100).round(2)"
   ]
  },
  {
   "cell_type": "code",
   "execution_count": 30,
   "id": "0f7ad9a2",
   "metadata": {},
   "outputs": [
    {
     "data": {
      "text/plain": [
       "Date\n",
       "2004-08-19      50\n",
       "2004-08-20      54\n",
       "2004-08-23      54\n",
       "2004-08-24      52\n",
       "2004-08-25      53\n",
       "              ... \n",
       "2019-10-21    1246\n",
       "2019-10-22    1243\n",
       "2019-10-23    1259\n",
       "2019-10-24    1261\n",
       "2019-10-25    1265\n",
       "Name: Close, Length: 3824, dtype: int64"
      ]
     },
     "execution_count": 30,
     "metadata": {},
     "output_type": "execute_result"
    }
   ],
   "source": [
    "# google.apply(func = round)\n",
    "google.apply(round)"
   ]
  },
  {
   "cell_type": "code",
   "execution_count": 31,
   "id": "bbec3214",
   "metadata": {},
   "outputs": [
    {
     "data": {
      "text/html": [
       "<div>\n",
       "<style scoped>\n",
       "    .dataframe tbody tr th:only-of-type {\n",
       "        vertical-align: middle;\n",
       "    }\n",
       "\n",
       "    .dataframe tbody tr th {\n",
       "        vertical-align: top;\n",
       "    }\n",
       "\n",
       "    .dataframe thead th {\n",
       "        text-align: right;\n",
       "    }\n",
       "</style>\n",
       "<table border=\"1\" class=\"dataframe\">\n",
       "  <thead>\n",
       "    <tr style=\"text-align: right;\">\n",
       "      <th></th>\n",
       "      <th>Pokemon</th>\n",
       "      <th>Type</th>\n",
       "    </tr>\n",
       "  </thead>\n",
       "  <tbody>\n",
       "    <tr>\n",
       "      <th>0</th>\n",
       "      <td>Bulbasaur</td>\n",
       "      <td>Grass / Poison</td>\n",
       "    </tr>\n",
       "    <tr>\n",
       "      <th>1</th>\n",
       "      <td>Ivysaur</td>\n",
       "      <td>Grass / Poison</td>\n",
       "    </tr>\n",
       "    <tr>\n",
       "      <th>2</th>\n",
       "      <td>Venusaur</td>\n",
       "      <td>Grass / Poison</td>\n",
       "    </tr>\n",
       "    <tr>\n",
       "      <th>3</th>\n",
       "      <td>Charmander</td>\n",
       "      <td>Fire</td>\n",
       "    </tr>\n",
       "  </tbody>\n",
       "</table>\n",
       "</div>"
      ],
      "text/plain": [
       "      Pokemon            Type\n",
       "0   Bulbasaur  Grass / Poison\n",
       "1     Ivysaur  Grass / Poison\n",
       "2    Venusaur  Grass / Poison\n",
       "3  Charmander            Fire"
      ]
     },
     "execution_count": 31,
     "metadata": {},
     "output_type": "execute_result"
    }
   ],
   "source": [
    "def single_or_multi(pokemon_type):\n",
    "    if \"/\" in pokemon_type:\n",
    "        return \"Multi\"\n",
    "    return \"Single\"\n",
    "pokemon.head(4)"
   ]
  },
  {
   "cell_type": "code",
   "execution_count": 32,
   "id": "518af386",
   "metadata": {},
   "outputs": [
    {
     "data": {
      "text/plain": [
       "Pokemon    Single\n",
       "Type       Single\n",
       "dtype: object"
      ]
     },
     "execution_count": 32,
     "metadata": {},
     "output_type": "execute_result"
    }
   ],
   "source": [
    "pokemon.apply(single_or_multi)"
   ]
  },
  {
   "cell_type": "code",
   "execution_count": null,
   "id": "fb77f8c8",
   "metadata": {},
   "outputs": [],
   "source": []
  }
 ],
 "metadata": {
  "kernelspec": {
   "display_name": "Python 3 (ipykernel)",
   "language": "python",
   "name": "python3"
  },
  "language_info": {
   "codemirror_mode": {
    "name": "ipython",
    "version": 3
   },
   "file_extension": ".py",
   "mimetype": "text/x-python",
   "name": "python",
   "nbconvert_exporter": "python",
   "pygments_lexer": "ipython3",
   "version": "3.10.6"
  }
 },
 "nbformat": 4,
 "nbformat_minor": 5
}
